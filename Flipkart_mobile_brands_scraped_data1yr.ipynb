{
 "cells": [
  {
   "cell_type": "code",
   "execution_count": 672,
   "id": "bc8254c2",
   "metadata": {},
   "outputs": [],
   "source": [
    "import pandas as pd\n",
    "import numpy as np\n",
    "import seaborn as sns\n",
    "import matplotlib.pyplot as plt"
   ]
  },
  {
   "cell_type": "code",
   "execution_count": 673,
   "id": "f7488013",
   "metadata": {},
   "outputs": [],
   "source": [
    "df=pd.read_csv(\"Flipkart_mobile_brands_scraped_data1yr.csv\")"
   ]
  },
  {
   "cell_type": "code",
   "execution_count": 674,
   "id": "005e12b3",
   "metadata": {},
   "outputs": [
    {
     "data": {
      "text/html": [
       "<div>\n",
       "<style scoped>\n",
       "    .dataframe tbody tr th:only-of-type {\n",
       "        vertical-align: middle;\n",
       "    }\n",
       "\n",
       "    .dataframe tbody tr th {\n",
       "        vertical-align: top;\n",
       "    }\n",
       "\n",
       "    .dataframe thead th {\n",
       "        text-align: right;\n",
       "    }\n",
       "</style>\n",
       "<table border=\"1\" class=\"dataframe\">\n",
       "  <thead>\n",
       "    <tr style=\"text-align: right;\">\n",
       "      <th></th>\n",
       "      <th>Brand</th>\n",
       "      <th>Model</th>\n",
       "      <th>Color</th>\n",
       "      <th>Memory</th>\n",
       "      <th>Storage</th>\n",
       "      <th>Rating</th>\n",
       "      <th>Selling Price</th>\n",
       "      <th>Original Price</th>\n",
       "    </tr>\n",
       "  </thead>\n",
       "  <tbody>\n",
       "    <tr>\n",
       "      <th>0</th>\n",
       "      <td>OPPO</td>\n",
       "      <td>A53</td>\n",
       "      <td>Moonlight Black</td>\n",
       "      <td>4 GB</td>\n",
       "      <td>64 GB</td>\n",
       "      <td>4.5</td>\n",
       "      <td>11990.0</td>\n",
       "      <td>15990.0</td>\n",
       "    </tr>\n",
       "    <tr>\n",
       "      <th>1</th>\n",
       "      <td>OPPO</td>\n",
       "      <td>A53</td>\n",
       "      <td>Mint Cream</td>\n",
       "      <td>4 GB</td>\n",
       "      <td>64 GB</td>\n",
       "      <td>4.5</td>\n",
       "      <td>11990.0</td>\n",
       "      <td>15990.0</td>\n",
       "    </tr>\n",
       "    <tr>\n",
       "      <th>2</th>\n",
       "      <td>OPPO</td>\n",
       "      <td>A53</td>\n",
       "      <td>Moonlight Black</td>\n",
       "      <td>6 GB</td>\n",
       "      <td>128 GB</td>\n",
       "      <td>4.3</td>\n",
       "      <td>13990.0</td>\n",
       "      <td>17990.0</td>\n",
       "    </tr>\n",
       "  </tbody>\n",
       "</table>\n",
       "</div>"
      ],
      "text/plain": [
       "  Brand Model            Color Memory Storage  Rating  Selling Price  \\\n",
       "0  OPPO   A53  Moonlight Black   4 GB   64 GB     4.5        11990.0   \n",
       "1  OPPO   A53       Mint Cream   4 GB   64 GB     4.5        11990.0   \n",
       "2  OPPO   A53  Moonlight Black   6 GB  128 GB     4.3        13990.0   \n",
       "\n",
       "   Original Price  \n",
       "0         15990.0  \n",
       "1         15990.0  \n",
       "2         17990.0  "
      ]
     },
     "execution_count": 674,
     "metadata": {},
     "output_type": "execute_result"
    }
   ],
   "source": [
    "df.head(3)"
   ]
  },
  {
   "cell_type": "code",
   "execution_count": 675,
   "id": "d733e6a0",
   "metadata": {},
   "outputs": [
    {
     "data": {
      "text/html": [
       "<div>\n",
       "<style scoped>\n",
       "    .dataframe tbody tr th:only-of-type {\n",
       "        vertical-align: middle;\n",
       "    }\n",
       "\n",
       "    .dataframe tbody tr th {\n",
       "        vertical-align: top;\n",
       "    }\n",
       "\n",
       "    .dataframe thead th {\n",
       "        text-align: right;\n",
       "    }\n",
       "</style>\n",
       "<table border=\"1\" class=\"dataframe\">\n",
       "  <thead>\n",
       "    <tr style=\"text-align: right;\">\n",
       "      <th></th>\n",
       "      <th>Rating</th>\n",
       "      <th>Selling Price</th>\n",
       "      <th>Original Price</th>\n",
       "    </tr>\n",
       "  </thead>\n",
       "  <tbody>\n",
       "    <tr>\n",
       "      <th>count</th>\n",
       "      <td>2647.000000</td>\n",
       "      <td>2644.000000</td>\n",
       "      <td>969.000000</td>\n",
       "    </tr>\n",
       "    <tr>\n",
       "      <th>mean</th>\n",
       "      <td>4.001700</td>\n",
       "      <td>26461.362330</td>\n",
       "      <td>29852.605779</td>\n",
       "    </tr>\n",
       "    <tr>\n",
       "      <th>std</th>\n",
       "      <td>0.997499</td>\n",
       "      <td>29833.135164</td>\n",
       "      <td>27659.141051</td>\n",
       "    </tr>\n",
       "    <tr>\n",
       "      <th>min</th>\n",
       "      <td>0.000000</td>\n",
       "      <td>1000.000000</td>\n",
       "      <td>1599.000000</td>\n",
       "    </tr>\n",
       "    <tr>\n",
       "      <th>25%</th>\n",
       "      <td>4.000000</td>\n",
       "      <td>9490.000000</td>\n",
       "      <td>12999.000000</td>\n",
       "    </tr>\n",
       "    <tr>\n",
       "      <th>50%</th>\n",
       "      <td>4.300000</td>\n",
       "      <td>14999.000000</td>\n",
       "      <td>18999.000000</td>\n",
       "    </tr>\n",
       "    <tr>\n",
       "      <th>75%</th>\n",
       "      <td>4.400000</td>\n",
       "      <td>29998.250000</td>\n",
       "      <td>34999.000000</td>\n",
       "    </tr>\n",
       "    <tr>\n",
       "      <th>max</th>\n",
       "      <td>5.000000</td>\n",
       "      <td>179900.000000</td>\n",
       "      <td>189999.000000</td>\n",
       "    </tr>\n",
       "  </tbody>\n",
       "</table>\n",
       "</div>"
      ],
      "text/plain": [
       "            Rating  Selling Price  Original Price\n",
       "count  2647.000000    2644.000000      969.000000\n",
       "mean      4.001700   26461.362330    29852.605779\n",
       "std       0.997499   29833.135164    27659.141051\n",
       "min       0.000000    1000.000000     1599.000000\n",
       "25%       4.000000    9490.000000    12999.000000\n",
       "50%       4.300000   14999.000000    18999.000000\n",
       "75%       4.400000   29998.250000    34999.000000\n",
       "max       5.000000  179900.000000   189999.000000"
      ]
     },
     "execution_count": 675,
     "metadata": {},
     "output_type": "execute_result"
    }
   ],
   "source": [
    "df.describe()"
   ]
  },
  {
   "cell_type": "code",
   "execution_count": 676,
   "id": "154499cf",
   "metadata": {},
   "outputs": [
    {
     "name": "stdout",
     "output_type": "stream",
     "text": [
      "<class 'pandas.core.frame.DataFrame'>\n",
      "RangeIndex: 2647 entries, 0 to 2646\n",
      "Data columns (total 8 columns):\n",
      " #   Column          Non-Null Count  Dtype  \n",
      "---  ------          --------------  -----  \n",
      " 0   Brand           2647 non-null   object \n",
      " 1   Model           2645 non-null   object \n",
      " 2   Color           2505 non-null   object \n",
      " 3   Memory          2605 non-null   object \n",
      " 4   Storage         2568 non-null   object \n",
      " 5   Rating          2647 non-null   float64\n",
      " 6   Selling Price   2644 non-null   float64\n",
      " 7   Original Price  969 non-null    float64\n",
      "dtypes: float64(3), object(5)\n",
      "memory usage: 165.6+ KB\n"
     ]
    }
   ],
   "source": [
    "df.info()"
   ]
  },
  {
   "cell_type": "code",
   "execution_count": 677,
   "id": "44ece8a9",
   "metadata": {},
   "outputs": [
    {
     "data": {
      "text/plain": [
       "Brand                0\n",
       "Model                2\n",
       "Color              142\n",
       "Memory              42\n",
       "Storage             79\n",
       "Rating               0\n",
       "Selling Price        3\n",
       "Original Price    1678\n",
       "dtype: int64"
      ]
     },
     "execution_count": 677,
     "metadata": {},
     "output_type": "execute_result"
    }
   ],
   "source": [
    "df.isna().sum()"
   ]
  },
  {
   "cell_type": "code",
   "execution_count": 678,
   "id": "78593672",
   "metadata": {},
   "outputs": [
    {
     "data": {
      "text/plain": [
       "'4 GB'"
      ]
     },
     "execution_count": 678,
     "metadata": {},
     "output_type": "execute_result"
    }
   ],
   "source": [
    "df['Memory'][0]"
   ]
  },
  {
   "cell_type": "code",
   "execution_count": 679,
   "id": "6935d76b",
   "metadata": {},
   "outputs": [
    {
     "data": {
      "text/plain": [
       "str"
      ]
     },
     "execution_count": 679,
     "metadata": {},
     "output_type": "execute_result"
    }
   ],
   "source": [
    "type(str(float('5.0')))"
   ]
  },
  {
   "cell_type": "code",
   "execution_count": 680,
   "id": "18108d80",
   "metadata": {},
   "outputs": [
    {
     "data": {
      "text/plain": [
       "'4'"
      ]
     },
     "execution_count": 680,
     "metadata": {},
     "output_type": "execute_result"
    }
   ],
   "source": [
    "df['Memory'][0][:1]"
   ]
  },
  {
   "cell_type": "code",
   "execution_count": 681,
   "id": "11ba05d8",
   "metadata": {},
   "outputs": [
    {
     "data": {
      "text/plain": [
       "'4'"
      ]
     },
     "execution_count": 681,
     "metadata": {},
     "output_type": "execute_result"
    }
   ],
   "source": [
    "df['Memory'][667][:-3]"
   ]
  },
  {
   "cell_type": "code",
   "execution_count": 682,
   "id": "7a68e0bf",
   "metadata": {},
   "outputs": [],
   "source": [
    "#df['Memory']=df['Memory'][:-3].astype(float)"
   ]
  },
  {
   "cell_type": "code",
   "execution_count": 683,
   "id": "a8481d06",
   "metadata": {},
   "outputs": [
    {
     "data": {
      "text/plain": [
       "'32'"
      ]
     },
     "execution_count": 683,
     "metadata": {},
     "output_type": "execute_result"
    }
   ],
   "source": [
    "df['Storage'][650][:-3]"
   ]
  },
  {
   "cell_type": "code",
   "execution_count": 684,
   "id": "ca2fb5b3",
   "metadata": {},
   "outputs": [],
   "source": [
    "#df['Storage']=df['Storage'][:-3].astype(float)"
   ]
  },
  {
   "cell_type": "code",
   "execution_count": 685,
   "id": "a1b64f44",
   "metadata": {},
   "outputs": [],
   "source": [
    "df['Model'].fillna('SAMSUNG',inplace=True)"
   ]
  },
  {
   "cell_type": "code",
   "execution_count": 686,
   "id": "e2a0ce5e",
   "metadata": {},
   "outputs": [
    {
     "data": {
      "text/plain": [
       "Brand                0\n",
       "Model                0\n",
       "Color              142\n",
       "Memory              42\n",
       "Storage             79\n",
       "Rating               0\n",
       "Selling Price        3\n",
       "Original Price    1678\n",
       "dtype: int64"
      ]
     },
     "execution_count": 686,
     "metadata": {},
     "output_type": "execute_result"
    }
   ],
   "source": [
    "df.isna().sum()"
   ]
  },
  {
   "cell_type": "code",
   "execution_count": 687,
   "id": "3c1a3b69",
   "metadata": {},
   "outputs": [
    {
     "data": {
      "text/plain": [
       "16"
      ]
     },
     "execution_count": 687,
     "metadata": {},
     "output_type": "execute_result"
    }
   ],
   "source": [
    "df['Brand'].nunique()"
   ]
  },
  {
   "cell_type": "code",
   "execution_count": 688,
   "id": "4a53562d",
   "metadata": {},
   "outputs": [
    {
     "data": {
      "text/plain": [
       "array(['OPPO', 'HTC', 'IQOO', 'Google Pixel', 'LG', 'ASUS', 'realme',\n",
       "       'GIONEE', 'Nokia', 'Apple', 'SAMSUNG', 'Lenovo', 'Motorola',\n",
       "       'POCO', 'vivo', 'Xiaomi'], dtype=object)"
      ]
     },
     "execution_count": 688,
     "metadata": {},
     "output_type": "execute_result"
    }
   ],
   "source": [
    "df['Brand'].unique()"
   ]
  },
  {
   "cell_type": "code",
   "execution_count": 689,
   "id": "51fd3787",
   "metadata": {},
   "outputs": [
    {
     "data": {
      "text/plain": [
       "Brand\n",
       "SAMSUNG         695\n",
       "Apple           364\n",
       "realme          285\n",
       "OPPO            244\n",
       "Nokia           212\n",
       "Xiaomi          164\n",
       "GIONEE          129\n",
       "Lenovo          121\n",
       "ASUS            113\n",
       "Motorola        105\n",
       "LG               99\n",
       "vivo             57\n",
       "Google Pixel     29\n",
       "POCO             20\n",
       "HTC               5\n",
       "IQOO              5\n",
       "Name: count, dtype: int64"
      ]
     },
     "execution_count": 689,
     "metadata": {},
     "output_type": "execute_result"
    }
   ],
   "source": [
    "df['Brand'].value_counts()"
   ]
  },
  {
   "cell_type": "code",
   "execution_count": 690,
   "id": "05ff3542",
   "metadata": {},
   "outputs": [
    {
     "data": {
      "text/plain": [
       "<Axes: ylabel='count'>"
      ]
     },
     "execution_count": 690,
     "metadata": {},
     "output_type": "execute_result"
    },
    {
     "data": {
      "image/png": "[encoded data removed]",
      "text/plain": [
       "<Figure size 640x480 with 1 Axes>"
      ]
     },
     "metadata": {},
     "output_type": "display_data"
    }
   ],
   "source": [
    "df['Brand'].value_counts().plot(kind='pie',autopct='%.f%%')"
   ]
  },
  {
   "cell_type": "code",
   "execution_count": 691,
   "id": "88e1d600",
   "metadata": {},
   "outputs": [
    {
     "data": {
      "text/plain": [
       "<Axes: xlabel='Brand'>"
      ]
     },
     "execution_count": 691,
     "metadata": {},
     "output_type": "execute_result"
    },
    {
     "data": {
      "image/png": "[encoded data removed]",
      "text/plain": [
       "<Figure size 640x480 with 1 Axes>"
      ]
     },
     "metadata": {},
     "output_type": "display_data"
    }
   ],
   "source": [
    "df['Brand'].value_counts().plot(kind='bar')"
   ]
  },
  {
   "cell_type": "code",
   "execution_count": 692,
   "id": "ea73fe65",
   "metadata": {},
   "outputs": [
    {
     "data": {
      "text/plain": [
       "774"
      ]
     },
     "execution_count": 692,
     "metadata": {},
     "output_type": "execute_result"
    }
   ],
   "source": [
    "df['Model'].nunique()"
   ]
  },
  {
   "cell_type": "code",
   "execution_count": 693,
   "id": "53caf08c",
   "metadata": {},
   "outputs": [
    {
     "data": {
      "text/plain": [
       "Memory\n",
       "4 GB      631\n",
       "3 GB      445\n",
       "6 GB      381\n",
       "2 GB      345\n",
       "8 GB      264\n",
       "1 GB      175\n",
       "4GB       114\n",
       "12 GB      45\n",
       "4 MB       39\n",
       "512 MB     33\n",
       "1.5 GB     27\n",
       "64 MB      16\n",
       "16 MB      16\n",
       "32 MB      14\n",
       "8 MB       14\n",
       "6GB        11\n",
       "128 MB      6\n",
       "768 MB      6\n",
       "10 MB       3\n",
       "100 MB      3\n",
       "0.5 GB      2\n",
       "46 MB       2\n",
       "2 MB        2\n",
       "256 MB      2\n",
       "16 GB       2\n",
       "717 MB      2\n",
       "18 GB       1\n",
       "153 MB      1\n",
       "0 MB        1\n",
       "32 GB       1\n",
       "30 MB       1\n",
       "Name: count, dtype: int64"
      ]
     },
     "execution_count": 693,
     "metadata": {},
     "output_type": "execute_result"
    }
   ],
   "source": [
    "df['Memory'].value_counts()"
   ]
  },
  {
   "cell_type": "code",
   "execution_count": 694,
   "id": "b3b491de",
   "metadata": {},
   "outputs": [
    {
     "data": {
      "text/plain": [
       "Storage\n",
       "64 GB                    641\n",
       "128 GB                   612\n",
       "32 GB                    472\n",
       "16 GB                    287\n",
       "256 GB                   197\n",
       "8 GB                     125\n",
       "512 GB                    58\n",
       "4 GB                      50\n",
       "4 MB                      28\n",
       "16 MB                     14\n",
       "Expandable Upto 32 GB     14\n",
       "Expandable Upto 16 GB     12\n",
       "128 MB                    12\n",
       "1 TB                       9\n",
       "8 MB                       6\n",
       "2.27 MB                    4\n",
       "48 MB                      3\n",
       "256 MB                     3\n",
       "64 MB                      3\n",
       "2 MB                       3\n",
       "512 MB                     2\n",
       "100 MB                     2\n",
       "0 MB                       2\n",
       "1 MB                       2\n",
       "2.3 MB                     1\n",
       "32GB                       1\n",
       "153 MB                     1\n",
       "140 MB                     1\n",
       "10 MB                      1\n",
       "64GB GB                    1\n",
       "65 GB                      1\n",
       "Name: count, dtype: int64"
      ]
     },
     "execution_count": 694,
     "metadata": {},
     "output_type": "execute_result"
    }
   ],
   "source": [
    "df['Storage'].value_counts()"
   ]
  },
  {
   "cell_type": "code",
   "execution_count": 695,
   "id": "4be090ca",
   "metadata": {},
   "outputs": [
    {
     "data": {
      "text/plain": [
       "Color\n",
       "Black             328\n",
       "Gold              182\n",
       "White             150\n",
       "Blue              141\n",
       "Silver             97\n",
       "                 ... \n",
       "Classic White       1\n",
       "Polaris Blue        1\n",
       "Copper Gold         1\n",
       "Sunrise Gold        1\n",
       "Pewter / White      1\n",
       "Name: count, Length: 531, dtype: int64"
      ]
     },
     "execution_count": 695,
     "metadata": {},
     "output_type": "execute_result"
    }
   ],
   "source": [
    "df['Color'].value_counts()"
   ]
  },
  {
   "cell_type": "code",
   "execution_count": null,
   "id": "f6884b4e",
   "metadata": {},
   "outputs": [],
   "source": []
  },
  {
   "cell_type": "markdown",
   "id": "8a39acb0",
   "metadata": {},
   "source": [
    "### 1. Samsung"
   ]
  },
  {
   "cell_type": "code",
   "execution_count": 696,
   "id": "2a8e675c",
   "metadata": {},
   "outputs": [],
   "source": [
    "sam=df[df['Brand']=='SAMSUNG']\n",
    "#sam.head()"
   ]
  },
  {
   "cell_type": "code",
   "execution_count": 697,
   "id": "a4fa15be",
   "metadata": {},
   "outputs": [
    {
     "data": {
      "text/html": [
       "<div>\n",
       "<style scoped>\n",
       "    .dataframe tbody tr th:only-of-type {\n",
       "        vertical-align: middle;\n",
       "    }\n",
       "\n",
       "    .dataframe tbody tr th {\n",
       "        vertical-align: top;\n",
       "    }\n",
       "\n",
       "    .dataframe thead th {\n",
       "        text-align: right;\n",
       "    }\n",
       "</style>\n",
       "<table border=\"1\" class=\"dataframe\">\n",
       "  <thead>\n",
       "    <tr style=\"text-align: right;\">\n",
       "      <th></th>\n",
       "      <th>Rating</th>\n",
       "      <th>Selling Price</th>\n",
       "      <th>Original Price</th>\n",
       "    </tr>\n",
       "  </thead>\n",
       "  <tbody>\n",
       "    <tr>\n",
       "      <th>count</th>\n",
       "      <td>695.000000</td>\n",
       "      <td>695.000000</td>\n",
       "      <td>241.000000</td>\n",
       "    </tr>\n",
       "    <tr>\n",
       "      <th>mean</th>\n",
       "      <td>4.141871</td>\n",
       "      <td>23829.929496</td>\n",
       "      <td>37668.215768</td>\n",
       "    </tr>\n",
       "    <tr>\n",
       "      <th>std</th>\n",
       "      <td>0.571932</td>\n",
       "      <td>24150.745382</td>\n",
       "      <td>35206.590663</td>\n",
       "    </tr>\n",
       "    <tr>\n",
       "      <th>min</th>\n",
       "      <td>0.000000</td>\n",
       "      <td>1099.000000</td>\n",
       "      <td>1661.000000</td>\n",
       "    </tr>\n",
       "    <tr>\n",
       "      <th>25%</th>\n",
       "      <td>4.100000</td>\n",
       "      <td>9499.000000</td>\n",
       "      <td>14999.000000</td>\n",
       "    </tr>\n",
       "    <tr>\n",
       "      <th>50%</th>\n",
       "      <td>4.300000</td>\n",
       "      <td>15990.000000</td>\n",
       "      <td>23999.000000</td>\n",
       "    </tr>\n",
       "    <tr>\n",
       "      <th>75%</th>\n",
       "      <td>4.300000</td>\n",
       "      <td>27499.000000</td>\n",
       "      <td>43999.000000</td>\n",
       "    </tr>\n",
       "    <tr>\n",
       "      <th>max</th>\n",
       "      <td>5.000000</td>\n",
       "      <td>169999.000000</td>\n",
       "      <td>189999.000000</td>\n",
       "    </tr>\n",
       "  </tbody>\n",
       "</table>\n",
       "</div>"
      ],
      "text/plain": [
       "           Rating  Selling Price  Original Price\n",
       "count  695.000000     695.000000      241.000000\n",
       "mean     4.141871   23829.929496    37668.215768\n",
       "std      0.571932   24150.745382    35206.590663\n",
       "min      0.000000    1099.000000     1661.000000\n",
       "25%      4.100000    9499.000000    14999.000000\n",
       "50%      4.300000   15990.000000    23999.000000\n",
       "75%      4.300000   27499.000000    43999.000000\n",
       "max      5.000000  169999.000000   189999.000000"
      ]
     },
     "execution_count": 697,
     "metadata": {},
     "output_type": "execute_result"
    }
   ],
   "source": [
    "sam.describe()"
   ]
  },
  {
   "cell_type": "code",
   "execution_count": 698,
   "id": "11652cab",
   "metadata": {},
   "outputs": [
    {
     "data": {
      "text/plain": [
       "206"
      ]
     },
     "execution_count": 698,
     "metadata": {},
     "output_type": "execute_result"
    }
   ],
   "source": [
    "sam['Model'].nunique()"
   ]
  },
  {
   "cell_type": "code",
   "execution_count": 699,
   "id": "d557d796",
   "metadata": {},
   "outputs": [
    {
     "data": {
      "text/plain": [
       "Model\n",
       "Galaxy A12                  19\n",
       "Galaxy Note 5               10\n",
       "Metro 313                    9\n",
       "Galaxy S9 Plus               9\n",
       "Galaxy A21s                  9\n",
       "                            ..\n",
       "GALAXY M31S                  1\n",
       "Galaxy M21 2021 Edition      1\n",
       "Guru Music 2 SM-B310E        1\n",
       "Guru E1207T                  1\n",
       "Guru Plus B110               1\n",
       "Name: count, Length: 206, dtype: int64"
      ]
     },
     "execution_count": 699,
     "metadata": {},
     "output_type": "execute_result"
    }
   ],
   "source": [
    "sam['Model'].value_counts()"
   ]
  },
  {
   "cell_type": "code",
   "execution_count": 700,
   "id": "29b48b9b",
   "metadata": {},
   "outputs": [
    {
     "data": {
      "text/plain": [
       "Rating\n",
       "4.3    222\n",
       "4.2    128\n",
       "4.4     79\n",
       "4.1     69\n",
       "4.0     57\n",
       "3.9     37\n",
       "4.5     30\n",
       "4.6     25\n",
       "3.8     13\n",
       "3.6      9\n",
       "3.3      5\n",
       "3.0      3\n",
       "3.5      3\n",
       "3.7      2\n",
       "5.0      1\n",
       "3.4      1\n",
       "Name: count, dtype: int64"
      ]
     },
     "execution_count": 700,
     "metadata": {},
     "output_type": "execute_result"
    }
   ],
   "source": [
    "sam[sam['Rating']>0]['Rating'].value_counts()"
   ]
  },
  {
   "cell_type": "code",
   "execution_count": 701,
   "id": "8ced3c0a",
   "metadata": {},
   "outputs": [
    {
     "data": {
      "text/plain": [
       "<Axes: xlabel='Rating'>"
      ]
     },
     "execution_count": 701,
     "metadata": {},
     "output_type": "execute_result"
    },
    {
     "data": {
      "image/png": "[encoded data removed]",
      "text/plain": [
       "<Figure size 640x480 with 1 Axes>"
      ]
     },
     "metadata": {},
     "output_type": "display_data"
    }
   ],
   "source": [
    "sam[sam['Rating']>0]['Rating'].value_counts().plot(kind='bar')"
   ]
  },
  {
   "cell_type": "code",
   "execution_count": 702,
   "id": "a3b9d2f4",
   "metadata": {},
   "outputs": [
    {
     "data": {
      "text/plain": [
       "<Axes: xlabel='Model'>"
      ]
     },
     "execution_count": 702,
     "metadata": {},
     "output_type": "execute_result"
    },
    {
     "data": {
      "image/png": "[encoded data removed]",
      "text/plain": [
       "<Figure size 640x480 with 1 Axes>"
      ]
     },
     "metadata": {},
     "output_type": "display_data"
    }
   ],
   "source": [
    "sam[sam['Rating']>4.5]['Model'].value_counts().plot(kind='bar')"
   ]
  },
  {
   "cell_type": "code",
   "execution_count": 703,
   "id": "47b67796",
   "metadata": {},
   "outputs": [
    {
     "data": {
      "text/plain": [
       "Model\n",
       "Galaxy S9 Plus              9\n",
       "Galaxy Note 9               7\n",
       "Galaxy S9                   6\n",
       "Galaxy S21                  6\n",
       "Galaxy S21 Plus             6\n",
       "Galaxy Note 5               6\n",
       "Galaxy S10 Lite             5\n",
       "Galaxy S20 FE               5\n",
       "Galaxy Note 10 Plus         5\n",
       "Galaxy S10 Plus             5\n",
       "Galaxy S6 Edge              4\n",
       "Galaxy S7 Edge              4\n",
       "Galaxy S21 Ultra            3\n",
       "Galaxy Z Flip3 5G           3\n",
       "Galaxy Note 10              3\n",
       "Galaxy Z Fold3 5G           3\n",
       "Galaxy Note 20              3\n",
       "Galaxy S20                  3\n",
       "Galaxy S10e                 2\n",
       "Galaxy S20+                 2\n",
       "Galaxy S20 Ultra            2\n",
       "Galaxy Fold 2               2\n",
       "Galaxy Note 20 Ultra 5G     2\n",
       "Galaxy Note 4               2\n",
       "Galaxy S8                   1\n",
       "Galaxy Z Flip               1\n",
       "Galaxy Alpha                1\n",
       "Galaxy Note 8               1\n",
       "Galaxy Note 3               1\n",
       "Galaxy S4                   1\n",
       "Galaxy S10                  1\n",
       "S20 FE 5G                   1\n",
       "Fold 2 5G                   1\n",
       "Galaxy S6                   1\n",
       "Galaxy S8 Plus              1\n",
       "Name: count, dtype: int64"
      ]
     },
     "execution_count": 703,
     "metadata": {},
     "output_type": "execute_result"
    }
   ],
   "source": [
    "sam[sam['Selling Price']>40000]['Model'].value_counts()"
   ]
  },
  {
   "cell_type": "code",
   "execution_count": 704,
   "id": "f828fbe3",
   "metadata": {},
   "outputs": [
    {
     "data": {
      "text/plain": [
       "Memory\n",
       "4 GB      138\n",
       "6 GB      127\n",
       "8 GB      101\n",
       "3 GB       81\n",
       "2 GB       70\n",
       "1 GB       48\n",
       "1.5 GB     26\n",
       "512 MB     19\n",
       "12 GB      18\n",
       "32 MB      11\n",
       "4 MB        7\n",
       "64 MB       5\n",
       "768 MB      4\n",
       "10 MB       3\n",
       "46 MB       2\n",
       "0.5 GB      2\n",
       "2 MB        2\n",
       "717 MB      2\n",
       "0 MB        1\n",
       "128 MB      1\n",
       "153 MB      1\n",
       "32 GB       1\n",
       "16 MB       1\n",
       "16 GB       1\n",
       "100 MB      1\n",
       "30 MB       1\n",
       "Name: count, dtype: int64"
      ]
     },
     "execution_count": 704,
     "metadata": {},
     "output_type": "execute_result"
    }
   ],
   "source": [
    "sam['Memory'].value_counts()"
   ]
  },
  {
   "cell_type": "code",
   "execution_count": 705,
   "id": "5c99e803",
   "metadata": {},
   "outputs": [
    {
     "data": {
      "text/plain": [
       "Storage\n",
       "128 GB                   201\n",
       "32 GB                    122\n",
       "64 GB                    116\n",
       "16 GB                     75\n",
       "8 GB                      53\n",
       "256 GB                    30\n",
       "4 GB                      25\n",
       "512 GB                    12\n",
       "Expandable Upto 16 GB     10\n",
       "128 MB                     4\n",
       "2.27 MB                    4\n",
       "2 MB                       3\n",
       "100 MB                     2\n",
       "0 MB                       2\n",
       "1 MB                       2\n",
       "64 MB                      1\n",
       "1 TB                       1\n",
       "2.3 MB                     1\n",
       "512 MB                     1\n",
       "153 MB                     1\n",
       "4 MB                       1\n",
       "256 MB                     1\n",
       "Name: count, dtype: int64"
      ]
     },
     "execution_count": 705,
     "metadata": {},
     "output_type": "execute_result"
    }
   ],
   "source": [
    "sam['Storage'].value_counts()"
   ]
  },
  {
   "cell_type": "code",
   "execution_count": 706,
   "id": "312e1f53",
   "metadata": {},
   "outputs": [
    {
     "data": {
      "text/plain": [
       "Color\n",
       "Black             107\n",
       "Blue               52\n",
       "Gold               49\n",
       "White              46\n",
       "Midnight Black     14\n",
       "                 ... \n",
       "Deep Black          1\n",
       "Classic White       1\n",
       "Jet Black           1\n",
       "Polaris Blue        1\n",
       "Pink Gold           1\n",
       "Name: count, Length: 147, dtype: int64"
      ]
     },
     "execution_count": 706,
     "metadata": {},
     "output_type": "execute_result"
    }
   ],
   "source": [
    "sam['Color'].value_counts()"
   ]
  },
  {
   "cell_type": "markdown",
   "id": "04066c57",
   "metadata": {},
   "source": [
    "### 3. Apple"
   ]
  },
  {
   "cell_type": "code",
   "execution_count": 707,
   "id": "680b1dbe",
   "metadata": {},
   "outputs": [],
   "source": [
    "apple=df[df['Brand']=='Apple']"
   ]
  },
  {
   "cell_type": "code",
   "execution_count": 708,
   "id": "57b5ff9b",
   "metadata": {},
   "outputs": [
    {
     "data": {
      "text/html": [
       "<div>\n",
       "<style scoped>\n",
       "    .dataframe tbody tr th:only-of-type {\n",
       "        vertical-align: middle;\n",
       "    }\n",
       "\n",
       "    .dataframe tbody tr th {\n",
       "        vertical-align: top;\n",
       "    }\n",
       "\n",
       "    .dataframe thead th {\n",
       "        text-align: right;\n",
       "    }\n",
       "</style>\n",
       "<table border=\"1\" class=\"dataframe\">\n",
       "  <thead>\n",
       "    <tr style=\"text-align: right;\">\n",
       "      <th></th>\n",
       "      <th>Rating</th>\n",
       "      <th>Selling Price</th>\n",
       "      <th>Original Price</th>\n",
       "    </tr>\n",
       "  </thead>\n",
       "  <tbody>\n",
       "    <tr>\n",
       "      <th>count</th>\n",
       "      <td>364.000000</td>\n",
       "      <td>364.000000</td>\n",
       "      <td>112.000000</td>\n",
       "    </tr>\n",
       "    <tr>\n",
       "      <th>mean</th>\n",
       "      <td>3.897527</td>\n",
       "      <td>78065.142857</td>\n",
       "      <td>65216.071429</td>\n",
       "    </tr>\n",
       "    <tr>\n",
       "      <th>std</th>\n",
       "      <td>1.613159</td>\n",
       "      <td>38663.186759</td>\n",
       "      <td>26993.314333</td>\n",
       "    </tr>\n",
       "    <tr>\n",
       "      <th>min</th>\n",
       "      <td>0.000000</td>\n",
       "      <td>24999.000000</td>\n",
       "      <td>29900.000000</td>\n",
       "    </tr>\n",
       "    <tr>\n",
       "      <th>25%</th>\n",
       "      <td>4.500000</td>\n",
       "      <td>49674.750000</td>\n",
       "      <td>39900.000000</td>\n",
       "    </tr>\n",
       "    <tr>\n",
       "      <th>50%</th>\n",
       "      <td>4.500000</td>\n",
       "      <td>68999.000000</td>\n",
       "      <td>59900.000000</td>\n",
       "    </tr>\n",
       "    <tr>\n",
       "      <th>75%</th>\n",
       "      <td>4.600000</td>\n",
       "      <td>106900.000000</td>\n",
       "      <td>81900.000000</td>\n",
       "    </tr>\n",
       "    <tr>\n",
       "      <th>max</th>\n",
       "      <td>5.000000</td>\n",
       "      <td>179900.000000</td>\n",
       "      <td>124900.000000</td>\n",
       "    </tr>\n",
       "  </tbody>\n",
       "</table>\n",
       "</div>"
      ],
      "text/plain": [
       "           Rating  Selling Price  Original Price\n",
       "count  364.000000     364.000000      112.000000\n",
       "mean     3.897527   78065.142857    65216.071429\n",
       "std      1.613159   38663.186759    26993.314333\n",
       "min      0.000000   24999.000000    29900.000000\n",
       "25%      4.500000   49674.750000    39900.000000\n",
       "50%      4.500000   68999.000000    59900.000000\n",
       "75%      4.600000  106900.000000    81900.000000\n",
       "max      5.000000  179900.000000   124900.000000"
      ]
     },
     "execution_count": 708,
     "metadata": {},
     "output_type": "execute_result"
    }
   ],
   "source": [
    "apple.describe()"
   ]
  },
  {
   "cell_type": "code",
   "execution_count": 709,
   "id": "074ab738",
   "metadata": {},
   "outputs": [
    {
     "data": {
      "text/plain": [
       "25"
      ]
     },
     "execution_count": 709,
     "metadata": {},
     "output_type": "execute_result"
    }
   ],
   "source": [
    "apple['Model'].nunique()"
   ]
  },
  {
   "cell_type": "code",
   "execution_count": 710,
   "id": "356b1fb7",
   "metadata": {},
   "outputs": [
    {
     "data": {
      "text/plain": [
       "array(['iPhone SE ', 'iPhone XR ', 'iPhone 12 Mini ', 'iPhone 13 Pro ',\n",
       "       'iPhone 11 ', 'iPhone 12 ', 'iPhone 13 ', 'iPhone 13 Mini ',\n",
       "       'iPhone 12 Pro Max ', 'iPhone 12 Pro ', 'iPhone 11 Pro Max ',\n",
       "       'iPhone 8 Plus ', 'iPhone 11 Pro ', 'iPhone XS ', 'iPhone 8 ',\n",
       "       'iPhone 13 Pro Max ', 'iPhone 6s Plus ', 'iPhone 6 Plus ',\n",
       "       'iPhone XS Max ', 'iPhone 7 Plus ', 'iPhone 6s ', 'iPhone 7 ',\n",
       "       'iPhone 6 ', 'iPhone X ', 'iPhone 6s'], dtype=object)"
      ]
     },
     "execution_count": 710,
     "metadata": {},
     "output_type": "execute_result"
    }
   ],
   "source": [
    "apple['Model'].unique()"
   ]
  },
  {
   "cell_type": "code",
   "execution_count": 711,
   "id": "8221c9b6",
   "metadata": {},
   "outputs": [
    {
     "data": {
      "text/plain": [
       "Model\n",
       "iPhone 11             36\n",
       "iPhone XR             27\n",
       "iPhone 7              22\n",
       "iPhone 11 Pro         21\n",
       "iPhone 7 Plus         20\n",
       "iPhone 12 Mini        18\n",
       "iPhone 12             18\n",
       "iPhone 6s             18\n",
       "iPhone 13 Pro Max     18\n",
       "iPhone SE             17\n",
       "iPhone 6s Plus        16\n",
       "iPhone 13 Mini        14\n",
       "iPhone 11 Pro Max     13\n",
       "iPhone XS             13\n",
       "iPhone 12 Pro Max     12\n",
       "iPhone 13 Pro         12\n",
       "iPhone 6              12\n",
       "iPhone 12 Pro         11\n",
       "iPhone XS Max         10\n",
       "iPhone 8 Plus          9\n",
       "iPhone 6 Plus          8\n",
       "iPhone 13              8\n",
       "iPhone 8               6\n",
       "iPhone X               4\n",
       "iPhone 6s              1\n",
       "Name: count, dtype: int64"
      ]
     },
     "execution_count": 711,
     "metadata": {},
     "output_type": "execute_result"
    }
   ],
   "source": [
    "apple['Model'].value_counts()"
   ]
  },
  {
   "cell_type": "code",
   "execution_count": 712,
   "id": "4dc5725c",
   "metadata": {},
   "outputs": [
    {
     "data": {
      "text/plain": [
       "<Axes: xlabel='Model'>"
      ]
     },
     "execution_count": 712,
     "metadata": {},
     "output_type": "execute_result"
    },
    {
     "data": {
      "image/png": "[encoded data removed]",
      "text/plain": [
       "<Figure size 640x480 with 1 Axes>"
      ]
     },
     "metadata": {},
     "output_type": "display_data"
    }
   ],
   "source": [
    "apple['Model'].value_counts().plot(kind='bar')"
   ]
  },
  {
   "cell_type": "code",
   "execution_count": 713,
   "id": "c5038c59",
   "metadata": {},
   "outputs": [
    {
     "data": {
      "text/plain": [
       "Rating\n",
       "4.6    148\n",
       "4.5    102\n",
       "4.7     31\n",
       "4.4     28\n",
       "5.0      2\n",
       "Name: count, dtype: int64"
      ]
     },
     "execution_count": 713,
     "metadata": {},
     "output_type": "execute_result"
    }
   ],
   "source": [
    "apple[apple['Rating']>0]['Rating'].value_counts()"
   ]
  },
  {
   "cell_type": "code",
   "execution_count": 714,
   "id": "a6cf6703",
   "metadata": {},
   "outputs": [
    {
     "data": {
      "text/plain": [
       "<Axes: xlabel='Rating'>"
      ]
     },
     "execution_count": 714,
     "metadata": {},
     "output_type": "execute_result"
    },
    {
     "data": {
      "image/png": "[encoded data removed]",
      "text/plain": [
       "<Figure size 640x480 with 1 Axes>"
      ]
     },
     "metadata": {},
     "output_type": "display_data"
    }
   ],
   "source": [
    "apple[apple['Rating']>0]['Rating'].value_counts().plot(kind='bar')"
   ]
  },
  {
   "cell_type": "code",
   "execution_count": 715,
   "id": "16e2112a",
   "metadata": {},
   "outputs": [
    {
     "data": {
      "text/plain": [
       "Memory\n",
       "4GB     114\n",
       "2 GB     79\n",
       "3 GB     60\n",
       "6 GB     36\n",
       "4 GB     31\n",
       "1 GB     20\n",
       "6GB      11\n",
       "Name: count, dtype: int64"
      ]
     },
     "execution_count": 715,
     "metadata": {},
     "output_type": "execute_result"
    }
   ],
   "source": [
    "apple['Memory'].value_counts()"
   ]
  },
  {
   "cell_type": "code",
   "execution_count": 716,
   "id": "df75ca4b",
   "metadata": {},
   "outputs": [
    {
     "data": {
      "text/plain": [
       "Storage\n",
       "256 GB    103\n",
       "64 GB      82\n",
       "128 GB     80\n",
       "512 GB     43\n",
       "32 GB      28\n",
       "16 GB      14\n",
       "1 TB        8\n",
       "32GB        1\n",
       "Name: count, dtype: int64"
      ]
     },
     "execution_count": 716,
     "metadata": {},
     "output_type": "execute_result"
    }
   ],
   "source": [
    "apple['Storage'].value_counts()"
   ]
  },
  {
   "cell_type": "code",
   "execution_count": 717,
   "id": "72b08f4e",
   "metadata": {},
   "outputs": [
    {
     "data": {
      "text/plain": [
       "Color\n",
       "Silver            60\n",
       "Gold              53\n",
       "Red               40\n",
       "Space Grey        33\n",
       "Black             29\n",
       "White             21\n",
       "Rose Gold         17\n",
       "Blue              13\n",
       "Purple            12\n",
       "Green             12\n",
       "Graphite          12\n",
       "Yellow            11\n",
       "Midnight Green     9\n",
       "Sierra Blue        8\n",
       "Jet Black          7\n",
       "Pink               6\n",
       "Coral              6\n",
       "Pacific Blue       5\n",
       "Midnight           4\n",
       "Starlight          3\n",
       "Space Gray         2\n",
       "Grey               1\n",
       "Name: count, dtype: int64"
      ]
     },
     "execution_count": 717,
     "metadata": {},
     "output_type": "execute_result"
    }
   ],
   "source": [
    "apple['Color'].value_counts()"
   ]
  },
  {
   "cell_type": "markdown",
   "id": "d68e8c82",
   "metadata": {},
   "source": [
    "### 3. Oppo"
   ]
  },
  {
   "cell_type": "code",
   "execution_count": 718,
   "id": "2f990bb1",
   "metadata": {},
   "outputs": [],
   "source": [
    "oppo=df[df['Brand']=='OPPO']"
   ]
  },
  {
   "cell_type": "code",
   "execution_count": 719,
   "id": "47875e31",
   "metadata": {},
   "outputs": [
    {
     "data": {
      "text/html": [
       "<div>\n",
       "<style scoped>\n",
       "    .dataframe tbody tr th:only-of-type {\n",
       "        vertical-align: middle;\n",
       "    }\n",
       "\n",
       "    .dataframe tbody tr th {\n",
       "        vertical-align: top;\n",
       "    }\n",
       "\n",
       "    .dataframe thead th {\n",
       "        text-align: right;\n",
       "    }\n",
       "</style>\n",
       "<table border=\"1\" class=\"dataframe\">\n",
       "  <thead>\n",
       "    <tr style=\"text-align: right;\">\n",
       "      <th></th>\n",
       "      <th>Rating</th>\n",
       "      <th>Selling Price</th>\n",
       "      <th>Original Price</th>\n",
       "    </tr>\n",
       "  </thead>\n",
       "  <tbody>\n",
       "    <tr>\n",
       "      <th>count</th>\n",
       "      <td>244.000000</td>\n",
       "      <td>243.000000</td>\n",
       "      <td>126.000000</td>\n",
       "    </tr>\n",
       "    <tr>\n",
       "      <th>mean</th>\n",
       "      <td>4.190164</td>\n",
       "      <td>18677.242798</td>\n",
       "      <td>22921.095238</td>\n",
       "    </tr>\n",
       "    <tr>\n",
       "      <th>std</th>\n",
       "      <td>0.746063</td>\n",
       "      <td>8572.029018</td>\n",
       "      <td>10043.590011</td>\n",
       "    </tr>\n",
       "    <tr>\n",
       "      <th>min</th>\n",
       "      <td>0.000000</td>\n",
       "      <td>4999.000000</td>\n",
       "      <td>7490.000000</td>\n",
       "    </tr>\n",
       "    <tr>\n",
       "      <th>25%</th>\n",
       "      <td>4.300000</td>\n",
       "      <td>12990.000000</td>\n",
       "      <td>15990.000000</td>\n",
       "    </tr>\n",
       "    <tr>\n",
       "      <th>50%</th>\n",
       "      <td>4.300000</td>\n",
       "      <td>15999.000000</td>\n",
       "      <td>20990.000000</td>\n",
       "    </tr>\n",
       "    <tr>\n",
       "      <th>75%</th>\n",
       "      <td>4.400000</td>\n",
       "      <td>21990.000000</td>\n",
       "      <td>27490.000000</td>\n",
       "    </tr>\n",
       "    <tr>\n",
       "      <th>max</th>\n",
       "      <td>4.600000</td>\n",
       "      <td>60990.000000</td>\n",
       "      <td>55990.000000</td>\n",
       "    </tr>\n",
       "  </tbody>\n",
       "</table>\n",
       "</div>"
      ],
      "text/plain": [
       "           Rating  Selling Price  Original Price\n",
       "count  244.000000     243.000000      126.000000\n",
       "mean     4.190164   18677.242798    22921.095238\n",
       "std      0.746063    8572.029018    10043.590011\n",
       "min      0.000000    4999.000000     7490.000000\n",
       "25%      4.300000   12990.000000    15990.000000\n",
       "50%      4.300000   15999.000000    20990.000000\n",
       "75%      4.400000   21990.000000    27490.000000\n",
       "max      4.600000   60990.000000    55990.000000"
      ]
     },
     "execution_count": 719,
     "metadata": {},
     "output_type": "execute_result"
    }
   ],
   "source": [
    "oppo.describe()"
   ]
  },
  {
   "cell_type": "code",
   "execution_count": 720,
   "id": "19ec2d7d",
   "metadata": {},
   "outputs": [
    {
     "data": {
      "text/plain": [
       "73"
      ]
     },
     "execution_count": 720,
     "metadata": {},
     "output_type": "execute_result"
    }
   ],
   "source": [
    "oppo['Model'].nunique()"
   ]
  },
  {
   "cell_type": "code",
   "execution_count": 721,
   "id": "d17d1937",
   "metadata": {},
   "outputs": [
    {
     "data": {
      "text/plain": [
       "array(['A53', 'A12', 'A53s 5G', 'A33', 'A31', 'A74 5G', 'A11K', 'F17 Pro',\n",
       "       'A54', 'Reno6 5G', 'F17', 'A16', 'Reno5 Pro 5G', 'A15',\n",
       "       'A74 5G BLACK', 'Reno6 Pro 5G', 'Reno2 F', 'Reno3 Pro', 'A15s',\n",
       "       'A15S', 'F19 Pro', 'F19 Pro+ 5G', 'F19', 'A7', 'F5', 'A5s', 'Reno',\n",
       "       'Reno2 Z', 'F15', 'K1', 'A9 2020', 'Find X',\n",
       "       'Reno4 Pro Special Edition', 'F11', 'A5', 'Reno4 Pro', 'A5 2020',\n",
       "       'F3 Deepika Padukone Limited Edition', 'F1 Plus',\n",
       "       'A83 2018 Edition', 'F3', 'A3s', 'A83', 'K3', 'F9', 'A52',\n",
       "       'A71 New Edition', 'Neo 7 4G', 'A71', 'A57', 'A1K', 'A37f',\n",
       "       'F9 Pro', 'F19s', 'A71k', 'A9', 'F3 Plus',\n",
       "       'Rohit Sharma Limited Edition', 'F17 PRO',\n",
       "       'Hardik Pandya Limited Editon',\n",
       "       'Ravichandran Ashwin Limited Edition', 'F11 Pro', 'R1 R829',\n",
       "       'F5 Youth', 'F7', 'Neo 5', 'F1', 'Reno2', 'R17',\n",
       "       'F11 Pro Marvel’s Avengers Limited Edition', 'Reno 10x Zoom',\n",
       "       'F1S', 'N5111'], dtype=object)"
      ]
     },
     "execution_count": 721,
     "metadata": {},
     "output_type": "execute_result"
    }
   ],
   "source": [
    "oppo['Model'].unique()"
   ]
  },
  {
   "cell_type": "code",
   "execution_count": 722,
   "id": "8f9c373b",
   "metadata": {},
   "outputs": [
    {
     "data": {
      "text/plain": [
       "Model\n",
       "A53                                    10\n",
       "A5s                                    10\n",
       "A54                                     9\n",
       "A12                                     8\n",
       "A52                                     7\n",
       "                                       ..\n",
       "F17 PRO                                 1\n",
       "Rohit Sharma Limited Edition            1\n",
       "F3 Deepika Padukone Limited Edition     1\n",
       "A83 2018 Edition                        1\n",
       "N5111                                   1\n",
       "Name: count, Length: 73, dtype: int64"
      ]
     },
     "execution_count": 722,
     "metadata": {},
     "output_type": "execute_result"
    }
   ],
   "source": [
    "oppo['Model'].value_counts()"
   ]
  },
  {
   "cell_type": "code",
   "execution_count": 723,
   "id": "044b436d",
   "metadata": {},
   "outputs": [
    {
     "data": {
      "text/plain": [
       "<Axes: xlabel='Model'>"
      ]
     },
     "execution_count": 723,
     "metadata": {},
     "output_type": "execute_result"
    },
    {
     "data": {
      "image/png": "[encoded data removed]",
      "text/plain": [
       "<Figure size 640x480 with 1 Axes>"
      ]
     },
     "metadata": {},
     "output_type": "display_data"
    }
   ],
   "source": [
    "oppo['Model'].value_counts().plot(kind='bar')"
   ]
  },
  {
   "cell_type": "code",
   "execution_count": 724,
   "id": "9cc648c5",
   "metadata": {},
   "outputs": [
    {
     "data": {
      "text/plain": [
       "Model\n",
       "A53                                    10\n",
       "A5s                                    10\n",
       "A54                                     9\n",
       "A12                                     8\n",
       "A52                                     7\n",
       "                                       ..\n",
       "Hardik Pandya Limited Editon            1\n",
       "A74 5G BLACK                            1\n",
       "A74 5G                                  1\n",
       "A83 2018 Edition                        1\n",
       "F3 Deepika Padukone Limited Edition     1\n",
       "Name: count, Length: 63, dtype: int64"
      ]
     },
     "execution_count": 724,
     "metadata": {},
     "output_type": "execute_result"
    }
   ],
   "source": [
    "oppo[oppo['Rating']>=4.2]['Model'].value_counts()"
   ]
  },
  {
   "cell_type": "code",
   "execution_count": 725,
   "id": "fed1e7c5",
   "metadata": {},
   "outputs": [
    {
     "data": {
      "text/plain": [
       "<Axes: xlabel='Model'>"
      ]
     },
     "execution_count": 725,
     "metadata": {},
     "output_type": "execute_result"
    },
    {
     "data": {
      "image/png": "[encoded data removed]",
      "text/plain": [
       "<Figure size 640x480 with 1 Axes>"
      ]
     },
     "metadata": {},
     "output_type": "display_data"
    }
   ],
   "source": [
    "oppo[oppo['Rating']>4.3]['Model'].value_counts().plot(kind='bar')"
   ]
  },
  {
   "cell_type": "code",
   "execution_count": 726,
   "id": "23455fd9",
   "metadata": {},
   "outputs": [
    {
     "data": {
      "text/plain": [
       "Rating\n",
       "4.3    95\n",
       "4.4    84\n",
       "4.5    22\n",
       "4.2    20\n",
       "4.0     5\n",
       "3.8     4\n",
       "4.6     2\n",
       "3.0     2\n",
       "4.1     1\n",
       "3.7     1\n",
       "3.1     1\n",
       "Name: count, dtype: int64"
      ]
     },
     "execution_count": 726,
     "metadata": {},
     "output_type": "execute_result"
    }
   ],
   "source": [
    "oppo[oppo['Rating']>0]['Rating'].value_counts()"
   ]
  },
  {
   "cell_type": "code",
   "execution_count": 727,
   "id": "b5325c97",
   "metadata": {},
   "outputs": [
    {
     "data": {
      "text/plain": [
       "<Axes: xlabel='Rating'>"
      ]
     },
     "execution_count": 727,
     "metadata": {},
     "output_type": "execute_result"
    },
    {
     "data": {
      "image/png": "[encoded data removed]",
      "text/plain": [
       "<Figure size 640x480 with 1 Axes>"
      ]
     },
     "metadata": {},
     "output_type": "display_data"
    }
   ],
   "source": [
    "oppo[oppo['Rating']>0]['Rating'].value_counts().plot(kind='bar')"
   ]
  },
  {
   "cell_type": "code",
   "execution_count": 728,
   "id": "9d6d7a9f",
   "metadata": {},
   "outputs": [
    {
     "data": {
      "text/plain": [
       "Memory\n",
       "4 GB     80\n",
       "8 GB     54\n",
       "6 GB     52\n",
       "3 GB     31\n",
       "2 GB     18\n",
       "1 GB      6\n",
       "12 GB     3\n",
       "Name: count, dtype: int64"
      ]
     },
     "execution_count": 728,
     "metadata": {},
     "output_type": "execute_result"
    }
   ],
   "source": [
    "oppo['Memory'].value_counts()"
   ]
  },
  {
   "cell_type": "code",
   "execution_count": 729,
   "id": "00e03682",
   "metadata": {},
   "outputs": [
    {
     "data": {
      "text/plain": [
       "Storage\n",
       "128 GB    96\n",
       "64 GB     73\n",
       "32 GB     36\n",
       "16 GB     20\n",
       "256 GB    19\n",
       "Name: count, dtype: int64"
      ]
     },
     "execution_count": 729,
     "metadata": {},
     "output_type": "execute_result"
    }
   ],
   "source": [
    "oppo['Storage'].value_counts()"
   ]
  },
  {
   "cell_type": "code",
   "execution_count": 730,
   "id": "ead0401e",
   "metadata": {},
   "outputs": [
    {
     "data": {
      "text/plain": [
       "Color\n",
       "Black            26\n",
       "Gold             14\n",
       "Red              11\n",
       "Blue              7\n",
       "Fluid Black       5\n",
       "                 ..\n",
       "Twilight Blue     1\n",
       "Starry Purple     1\n",
       "Glowing Gold      1\n",
       "Glowing Black     1\n",
       "Starry purple     1\n",
       "Name: count, Length: 96, dtype: int64"
      ]
     },
     "execution_count": 730,
     "metadata": {},
     "output_type": "execute_result"
    }
   ],
   "source": [
    "oppo['Color'].value_counts()"
   ]
  },
  {
   "cell_type": "markdown",
   "id": "fc765f10",
   "metadata": {},
   "source": [
    "### 3. realme"
   ]
  },
  {
   "cell_type": "code",
   "execution_count": 731,
   "id": "e81aaaa7",
   "metadata": {},
   "outputs": [],
   "source": [
    "realme=df[df['Brand']=='realme']"
   ]
  },
  {
   "cell_type": "code",
   "execution_count": 732,
   "id": "946daabb",
   "metadata": {},
   "outputs": [
    {
     "data": {
      "text/html": [
       "<div>\n",
       "<style scoped>\n",
       "    .dataframe tbody tr th:only-of-type {\n",
       "        vertical-align: middle;\n",
       "    }\n",
       "\n",
       "    .dataframe tbody tr th {\n",
       "        vertical-align: top;\n",
       "    }\n",
       "\n",
       "    .dataframe thead th {\n",
       "        text-align: right;\n",
       "    }\n",
       "</style>\n",
       "<table border=\"1\" class=\"dataframe\">\n",
       "  <thead>\n",
       "    <tr style=\"text-align: right;\">\n",
       "      <th></th>\n",
       "      <th>Rating</th>\n",
       "      <th>Selling Price</th>\n",
       "      <th>Original Price</th>\n",
       "    </tr>\n",
       "  </thead>\n",
       "  <tbody>\n",
       "    <tr>\n",
       "      <th>count</th>\n",
       "      <td>285.000000</td>\n",
       "      <td>285.000000</td>\n",
       "      <td>206.000000</td>\n",
       "    </tr>\n",
       "    <tr>\n",
       "      <th>mean</th>\n",
       "      <td>3.893333</td>\n",
       "      <td>15535.645614</td>\n",
       "      <td>16080.956311</td>\n",
       "    </tr>\n",
       "    <tr>\n",
       "      <th>std</th>\n",
       "      <td>1.389646</td>\n",
       "      <td>7662.375373</td>\n",
       "      <td>6853.022614</td>\n",
       "    </tr>\n",
       "    <tr>\n",
       "      <th>min</th>\n",
       "      <td>0.000000</td>\n",
       "      <td>6499.000000</td>\n",
       "      <td>6999.000000</td>\n",
       "    </tr>\n",
       "    <tr>\n",
       "      <th>25%</th>\n",
       "      <td>4.300000</td>\n",
       "      <td>9999.000000</td>\n",
       "      <td>10999.000000</td>\n",
       "    </tr>\n",
       "    <tr>\n",
       "      <th>50%</th>\n",
       "      <td>4.400000</td>\n",
       "      <td>12999.000000</td>\n",
       "      <td>14990.000000</td>\n",
       "    </tr>\n",
       "    <tr>\n",
       "      <th>75%</th>\n",
       "      <td>4.400000</td>\n",
       "      <td>17999.000000</td>\n",
       "      <td>17999.000000</td>\n",
       "    </tr>\n",
       "    <tr>\n",
       "      <th>max</th>\n",
       "      <td>4.600000</td>\n",
       "      <td>47999.000000</td>\n",
       "      <td>43999.000000</td>\n",
       "    </tr>\n",
       "  </tbody>\n",
       "</table>\n",
       "</div>"
      ],
      "text/plain": [
       "           Rating  Selling Price  Original Price\n",
       "count  285.000000     285.000000      206.000000\n",
       "mean     3.893333   15535.645614    16080.956311\n",
       "std      1.389646    7662.375373     6853.022614\n",
       "min      0.000000    6499.000000     6999.000000\n",
       "25%      4.300000    9999.000000    10999.000000\n",
       "50%      4.400000   12999.000000    14990.000000\n",
       "75%      4.400000   17999.000000    17999.000000\n",
       "max      4.600000   47999.000000    43999.000000"
      ]
     },
     "execution_count": 732,
     "metadata": {},
     "output_type": "execute_result"
    }
   ],
   "source": [
    "realme.describe()"
   ]
  },
  {
   "cell_type": "code",
   "execution_count": 733,
   "id": "ed00436d",
   "metadata": {},
   "outputs": [
    {
     "data": {
      "text/plain": [
       "54"
      ]
     },
     "execution_count": 733,
     "metadata": {},
     "output_type": "execute_result"
    }
   ],
   "source": [
    "realme['Model'].nunique()"
   ]
  },
  {
   "cell_type": "code",
   "execution_count": 734,
   "id": "1ee2b5fb",
   "metadata": {},
   "outputs": [
    {
     "data": {
      "text/plain": [
       "array(['C11 2021 ', 'Narzo 30 5G ', 'C20 ', 'C21Y ', '8i ', 'C25s ',\n",
       "       '8s 5G ', 'C25Y ', 'C21 ', 'Narzo 30 ', 'Narzo 30A ', '8 5G ',\n",
       "       '8 Pro ', 'C15 ', '8', 'C12 ', 'C11 ', '7', 'X7 5G ',\n",
       "       'Narzo 30 Pro 5G ', 'C3 ', 'C15 Qualcomm Edition ', '3i ',\n",
       "       '5 Pro ', '7i ', 'C2 ', 'X3 SuperZoom ', 'GT Master Edition ',\n",
       "       '6i ', '6', '1', '3', 'X2 ', '5i ', 'X ', 'Narzo 50i ',\n",
       "       'Narzo 50A ', '2', 'X50 Pro 5G ', 'X3 ', 'GT 5G ', 'X50 Pro ',\n",
       "       'X7 Pro 5G ', 'C25 ', '7 Pro ', 'Narzo 20 Pro ', 'Narzo 20A ',\n",
       "       'Narzo 20 ', 'Narzo 10A ', 'Narzo 10 ', '6 Pro ', 'U1 ', 'X2 Pro ',\n",
       "       '5s '], dtype=object)"
      ]
     },
     "execution_count": 734,
     "metadata": {},
     "output_type": "execute_result"
    }
   ],
   "source": [
    "realme['Model'].unique()"
   ]
  },
  {
   "cell_type": "code",
   "execution_count": 735,
   "id": "108fd8e9",
   "metadata": {},
   "outputs": [
    {
     "data": {
      "text/plain": [
       "Model\n",
       "1                        15\n",
       "X2                       14\n",
       "X3 SuperZoom             12\n",
       "3                        12\n",
       "X                        10\n",
       "8 Pro                     9\n",
       "6 Pro                     8\n",
       "6                         8\n",
       "Narzo 50A                 8\n",
       "8                         7\n",
       "C2                        7\n",
       "5 Pro                     7\n",
       "Narzo 30A                 7\n",
       "C15                       7\n",
       "C3                        6\n",
       "Narzo 50i                 6\n",
       "6i                        6\n",
       "2                         6\n",
       "8 5G                      6\n",
       "Narzo 30                  6\n",
       "U1                        6\n",
       "C21Y                      6\n",
       "X2 Pro                    6\n",
       "5i                        5\n",
       "3i                        5\n",
       "X3                        4\n",
       "Narzo 10A                 4\n",
       "Narzo 20                  4\n",
       "C25                       4\n",
       "C11 2021                  4\n",
       "Narzo 30 5G               4\n",
       "7i                        4\n",
       "C15 Qualcomm Edition      4\n",
       "Narzo 30 Pro 5G           4\n",
       "X7 5G                     4\n",
       "C12                       4\n",
       "C21                       4\n",
       "8s 5G                     4\n",
       "C25s                      4\n",
       "8i                        4\n",
       "Narzo 20A                 4\n",
       "Narzo 20 Pro              3\n",
       "7                         3\n",
       "Narzo 10                  3\n",
       "X50 Pro                   3\n",
       "GT Master Edition         2\n",
       "GT 5G                     2\n",
       "C11                       2\n",
       "C25Y                      2\n",
       "C20                       2\n",
       "7 Pro                     1\n",
       "X7 Pro 5G                 1\n",
       "X50 Pro 5G                1\n",
       "5s                        1\n",
       "Name: count, dtype: int64"
      ]
     },
     "execution_count": 735,
     "metadata": {},
     "output_type": "execute_result"
    }
   ],
   "source": [
    "realme['Model'].value_counts()"
   ]
  },
  {
   "cell_type": "code",
   "execution_count": 736,
   "id": "4b152fa7",
   "metadata": {},
   "outputs": [
    {
     "data": {
      "text/plain": [
       "<Axes: xlabel='Model'>"
      ]
     },
     "execution_count": 736,
     "metadata": {},
     "output_type": "execute_result"
    },
    {
     "data": {
      "image/png": "[encoded data removed]",
      "text/plain": [
       "<Figure size 640x480 with 1 Axes>"
      ]
     },
     "metadata": {},
     "output_type": "display_data"
    }
   ],
   "source": [
    "realme['Model'].value_counts().plot(kind='bar')"
   ]
  },
  {
   "cell_type": "code",
   "execution_count": 737,
   "id": "e9cb1e06",
   "metadata": {},
   "outputs": [
    {
     "data": {
      "text/plain": [
       "Model\n",
       "X2                       14\n",
       "X3 SuperZoom             12\n",
       "3                        12\n",
       "X                        10\n",
       "8 Pro                     9\n",
       "1                         9\n",
       "6                         8\n",
       "6 Pro                     8\n",
       "Narzo 30A                 7\n",
       "C15                       7\n",
       "8                         7\n",
       "C2                        7\n",
       "5 Pro                     7\n",
       "6i                        6\n",
       "X2 Pro                    6\n",
       "U1                        6\n",
       "C3                        6\n",
       "Narzo 30                  6\n",
       "2                         6\n",
       "8 5G                      6\n",
       "5i                        5\n",
       "3i                        5\n",
       "X3                        4\n",
       "C25                       4\n",
       "Narzo 10A                 4\n",
       "Narzo 20                  4\n",
       "Narzo 20A                 4\n",
       "C11 2021                  4\n",
       "Narzo 30 5G               4\n",
       "C15 Qualcomm Edition      4\n",
       "Narzo 30 Pro 5G           4\n",
       "X7 5G                     4\n",
       "C25s                      4\n",
       "7i                        4\n",
       "C12                       4\n",
       "C21                       4\n",
       "7                         3\n",
       "X50 Pro                   3\n",
       "Narzo 10                  3\n",
       "Narzo 20 Pro              3\n",
       "8s 5G                     2\n",
       "C20                       2\n",
       "C21Y                      2\n",
       "C11                       2\n",
       "GT 5G                     2\n",
       "7 Pro                     1\n",
       "X7 Pro 5G                 1\n",
       "X50 Pro 5G                1\n",
       "5s                        1\n",
       "Name: count, dtype: int64"
      ]
     },
     "execution_count": 737,
     "metadata": {},
     "output_type": "execute_result"
    }
   ],
   "source": [
    "realme[realme['Rating']>=4.2]['Model'].value_counts()"
   ]
  },
  {
   "cell_type": "code",
   "execution_count": 738,
   "id": "748f17c8",
   "metadata": {},
   "outputs": [
    {
     "data": {
      "text/plain": [
       "<Axes: xlabel='Model'>"
      ]
     },
     "execution_count": 738,
     "metadata": {},
     "output_type": "execute_result"
    },
    {
     "data": {
      "image/png": "[encoded data removed]",
      "text/plain": [
       "<Figure size 640x480 with 1 Axes>"
      ]
     },
     "metadata": {},
     "output_type": "display_data"
    }
   ],
   "source": [
    "realme[realme['Rating']>=4.5]['Model'].value_counts().plot(kind='bar')"
   ]
  },
  {
   "cell_type": "code",
   "execution_count": 739,
   "id": "3d8049b6",
   "metadata": {},
   "outputs": [
    {
     "data": {
      "text/plain": [
       "Rating\n",
       "4.4    97\n",
       "4.3    82\n",
       "4.5    60\n",
       "4.2     8\n",
       "4.6     4\n",
       "4.1     2\n",
       "Name: count, dtype: int64"
      ]
     },
     "execution_count": 739,
     "metadata": {},
     "output_type": "execute_result"
    }
   ],
   "source": [
    "realme[realme['Rating']>0]['Rating'].value_counts()"
   ]
  },
  {
   "cell_type": "code",
   "execution_count": 740,
   "id": "22aff56d",
   "metadata": {},
   "outputs": [
    {
     "data": {
      "text/plain": [
       "<Axes: xlabel='Rating'>"
      ]
     },
     "execution_count": 740,
     "metadata": {},
     "output_type": "execute_result"
    },
    {
     "data": {
      "image/png": "[encoded data removed]",
      "text/plain": [
       "<Figure size 640x480 with 1 Axes>"
      ]
     },
     "metadata": {},
     "output_type": "display_data"
    }
   ],
   "source": [
    "realme[realme['Rating']>0]['Rating'].value_counts().plot(kind='bar')"
   ]
  },
  {
   "cell_type": "code",
   "execution_count": 741,
   "id": "c9dad8ca",
   "metadata": {},
   "outputs": [
    {
     "data": {
      "text/plain": [
       "Memory\n",
       "4 GB     103\n",
       "8 GB      53\n",
       "6 GB      52\n",
       "3 GB      50\n",
       "2 GB      14\n",
       "12 GB     13\n",
       "Name: count, dtype: int64"
      ]
     },
     "execution_count": 741,
     "metadata": {},
     "output_type": "execute_result"
    }
   ],
   "source": [
    "realme['Memory'].value_counts()"
   ]
  },
  {
   "cell_type": "code",
   "execution_count": 742,
   "id": "d41e1f67",
   "metadata": {},
   "outputs": [
    {
     "data": {
      "text/plain": [
       "Storage\n",
       "128 GB    96\n",
       "64 GB     85\n",
       "32 GB     45\n",
       "256 GB    17\n",
       "16 GB      2\n",
       "Name: count, dtype: int64"
      ]
     },
     "execution_count": 742,
     "metadata": {},
     "output_type": "execute_result"
    }
   ],
   "source": [
    "realme['Storage'].value_counts()"
   ]
  },
  {
   "cell_type": "code",
   "execution_count": 743,
   "id": "b9c555b2",
   "metadata": {},
   "outputs": [
    {
     "data": {
      "text/plain": [
       "Color\n",
       "Diamond Black        11\n",
       "Diamond Red          10\n",
       "Arctic White          9\n",
       "Power Silver          8\n",
       "Glacier Blue          8\n",
       "                     ..\n",
       "Dashing Blue          1\n",
       "Rich Grey             1\n",
       "Rich Green            1\n",
       "Mist Blue             1\n",
       "Super Polar White     1\n",
       "Name: count, Length: 97, dtype: int64"
      ]
     },
     "execution_count": 743,
     "metadata": {},
     "output_type": "execute_result"
    }
   ],
   "source": [
    "realme['Color'].value_counts()"
   ]
  },
  {
   "cell_type": "markdown",
   "id": "a9dac6e9",
   "metadata": {},
   "source": [
    "### 5. Nokia"
   ]
  },
  {
   "cell_type": "code",
   "execution_count": 744,
   "id": "f86d7883",
   "metadata": {},
   "outputs": [],
   "source": [
    "nokia=df[df['Brand']=='Nokia']"
   ]
  },
  {
   "cell_type": "code",
   "execution_count": 745,
   "id": "3cbbb295",
   "metadata": {},
   "outputs": [
    {
     "data": {
      "text/html": [
       "<div>\n",
       "<style scoped>\n",
       "    .dataframe tbody tr th:only-of-type {\n",
       "        vertical-align: middle;\n",
       "    }\n",
       "\n",
       "    .dataframe tbody tr th {\n",
       "        vertical-align: top;\n",
       "    }\n",
       "\n",
       "    .dataframe thead th {\n",
       "        text-align: right;\n",
       "    }\n",
       "</style>\n",
       "<table border=\"1\" class=\"dataframe\">\n",
       "  <thead>\n",
       "    <tr style=\"text-align: right;\">\n",
       "      <th></th>\n",
       "      <th>Rating</th>\n",
       "      <th>Selling Price</th>\n",
       "      <th>Original Price</th>\n",
       "    </tr>\n",
       "  </thead>\n",
       "  <tbody>\n",
       "    <tr>\n",
       "      <th>count</th>\n",
       "      <td>212.000000</td>\n",
       "      <td>212.000000</td>\n",
       "      <td>48.000000</td>\n",
       "    </tr>\n",
       "    <tr>\n",
       "      <th>mean</th>\n",
       "      <td>3.527358</td>\n",
       "      <td>9251.490566</td>\n",
       "      <td>11572.895833</td>\n",
       "    </tr>\n",
       "    <tr>\n",
       "      <th>std</th>\n",
       "      <td>1.307690</td>\n",
       "      <td>8069.635157</td>\n",
       "      <td>7725.323094</td>\n",
       "    </tr>\n",
       "    <tr>\n",
       "      <th>min</th>\n",
       "      <td>0.000000</td>\n",
       "      <td>1000.000000</td>\n",
       "      <td>1599.000000</td>\n",
       "    </tr>\n",
       "    <tr>\n",
       "      <th>25%</th>\n",
       "      <td>3.800000</td>\n",
       "      <td>3499.000000</td>\n",
       "      <td>4134.000000</td>\n",
       "    </tr>\n",
       "    <tr>\n",
       "      <th>50%</th>\n",
       "      <td>4.000000</td>\n",
       "      <td>7444.500000</td>\n",
       "      <td>11299.000000</td>\n",
       "    </tr>\n",
       "    <tr>\n",
       "      <th>75%</th>\n",
       "      <td>4.100000</td>\n",
       "      <td>12211.500000</td>\n",
       "      <td>15999.000000</td>\n",
       "    </tr>\n",
       "    <tr>\n",
       "      <th>max</th>\n",
       "      <td>4.400000</td>\n",
       "      <td>56299.000000</td>\n",
       "      <td>35999.000000</td>\n",
       "    </tr>\n",
       "  </tbody>\n",
       "</table>\n",
       "</div>"
      ],
      "text/plain": [
       "           Rating  Selling Price  Original Price\n",
       "count  212.000000     212.000000       48.000000\n",
       "mean     3.527358    9251.490566    11572.895833\n",
       "std      1.307690    8069.635157     7725.323094\n",
       "min      0.000000    1000.000000     1599.000000\n",
       "25%      3.800000    3499.000000     4134.000000\n",
       "50%      4.000000    7444.500000    11299.000000\n",
       "75%      4.100000   12211.500000    15999.000000\n",
       "max      4.400000   56299.000000    35999.000000"
      ]
     },
     "execution_count": 745,
     "metadata": {},
     "output_type": "execute_result"
    }
   ],
   "source": [
    "nokia.describe()"
   ]
  },
  {
   "cell_type": "code",
   "execution_count": 746,
   "id": "ca29405d",
   "metadata": {},
   "outputs": [
    {
     "data": {
      "text/plain": [
       "82"
      ]
     },
     "execution_count": 746,
     "metadata": {},
     "output_type": "execute_result"
    }
   ],
   "source": [
    "nokia['Model'].nunique()"
   ]
  },
  {
   "cell_type": "code",
   "execution_count": 747,
   "id": "6d2b7a50",
   "metadata": {},
   "outputs": [
    {
     "data": {
      "text/plain": [
       "array(['105 DS 2020', 'TA-1010/105', '105', '110 TA-1302 DS', '216 DS',\n",
       "       '150 DS 2020', '110 4G', '150 TA-1235 DS', '6310', '105 SS 2021',\n",
       "       'C01 Plus ', '125 DS', '5310ds', '3310 DS 2020', '3.4',\n",
       "       '125 TA-1253 DS', 'C20 Plus ', 'G20 ', '5.4', 'TA-1174 / TA-1299',\n",
       "       '2.4', 'C3 ', 'G10 ', '125 DS 2020', '5310 TA-1212 DS',\n",
       "       '216 DS 2020', '215 4G DS 2020', '225 4g ds', '225 4G DS 2020',\n",
       "       '2.3', '215 4G DS', '9', '150', '105 DS', '215', '130',\n",
       "       '108 Dual SIM', '107 Dual SIM', '150/150 DS', '3.2', '5.1 Plus ',\n",
       "       'Ta -1010/105', '6.1', '2.1', '5', '1', '106', '112', '6', '2',\n",
       "       '3.1', '3', '5.1', '220', '2.2', 'Lumia 920 ', '3.1 Plus ',\n",
       "       'Asha 503 ', '110', '225', '8110', '8 Sirocco ',\n",
       "       'RM-1172 / Nokia 230 DS', '5.3', 'Lumia 625 ', '6.1 Plus ',\n",
       "       'Asha 311 ', '8.1', '7.2', '7.1', '8110 4G', 'X2 Dual SIM ',\n",
       "       'Lumia 510 ', '7 Plus ', 'Asha 206', '222', '6.2', '4.2', '8',\n",
       "       'Asha 502 ', 'XPlus ', '515'], dtype=object)"
      ]
     },
     "execution_count": 747,
     "metadata": {},
     "output_type": "execute_result"
    }
   ],
   "source": [
    "nokia['Model'].unique()"
   ]
  },
  {
   "cell_type": "code",
   "execution_count": 748,
   "id": "36212d25",
   "metadata": {},
   "outputs": [
    {
     "data": {
      "text/plain": [
       "Model\n",
       "C01 Plus      10\n",
       "6.1            8\n",
       "5              8\n",
       "6310           8\n",
       "5.1 Plus       7\n",
       "              ..\n",
       "112            1\n",
       "220            1\n",
       "Lumia 920      1\n",
       "Asha 503       1\n",
       "515            1\n",
       "Name: count, Length: 82, dtype: int64"
      ]
     },
     "execution_count": 748,
     "metadata": {},
     "output_type": "execute_result"
    }
   ],
   "source": [
    "nokia['Model'].value_counts()"
   ]
  },
  {
   "cell_type": "code",
   "execution_count": 749,
   "id": "de6e0f95",
   "metadata": {},
   "outputs": [
    {
     "data": {
      "text/plain": [
       "Model\n",
       "3.1 Plus             4\n",
       "105 DS 2020          3\n",
       "8.1                  3\n",
       "6.1                  3\n",
       "5.1 Plus             3\n",
       "130                  3\n",
       "108 Dual SIM         2\n",
       "7 Plus               2\n",
       "6.1 Plus             2\n",
       "TA-1010/105          2\n",
       "107 Dual SIM         2\n",
       "150/150 DS           2\n",
       "105 DS               2\n",
       "216 DS 2020          2\n",
       "C20 Plus             2\n",
       "105 SS 2021          2\n",
       "6.2                  2\n",
       "150                  1\n",
       "Ta -1010/105         1\n",
       "105                  1\n",
       "5310 TA-1212 DS      1\n",
       "Lumia 920            1\n",
       "106                  1\n",
       "8 Sirocco            1\n",
       "TA-1174 / TA-1299    1\n",
       "X2 Dual SIM          1\n",
       "216 DS               1\n",
       "Name: count, dtype: int64"
      ]
     },
     "execution_count": 749,
     "metadata": {},
     "output_type": "execute_result"
    }
   ],
   "source": [
    "nokia[nokia['Rating']>=4.2]['Model'].value_counts()"
   ]
  },
  {
   "cell_type": "code",
   "execution_count": 750,
   "id": "565b6fef",
   "metadata": {},
   "outputs": [
    {
     "data": {
      "text/plain": [
       "<Axes: xlabel='Model'>"
      ]
     },
     "execution_count": 750,
     "metadata": {},
     "output_type": "execute_result"
    },
    {
     "data": {
      "image/png": "[encoded data removed]",
      "text/plain": [
       "<Figure size 640x480 with 1 Axes>"
      ]
     },
     "metadata": {},
     "output_type": "display_data"
    }
   ],
   "source": [
    "nokia[nokia['Rating']>=4.1]['Model'].value_counts().plot(kind='bar')"
   ]
  },
  {
   "cell_type": "code",
   "execution_count": 751,
   "id": "42e334e1",
   "metadata": {},
   "outputs": [
    {
     "data": {
      "text/plain": [
       "Rating\n",
       "4.2    36\n",
       "4.1    31\n",
       "4.3    13\n",
       "4.4     2\n",
       "Name: count, dtype: int64"
      ]
     },
     "execution_count": 751,
     "metadata": {},
     "output_type": "execute_result"
    }
   ],
   "source": [
    "nokia[nokia['Rating']>=4.1]['Rating'].value_counts()"
   ]
  },
  {
   "cell_type": "code",
   "execution_count": 752,
   "id": "f9232978",
   "metadata": {},
   "outputs": [
    {
     "data": {
      "text/plain": [
       "<Axes: xlabel='Rating'>"
      ]
     },
     "execution_count": 752,
     "metadata": {},
     "output_type": "execute_result"
    },
    {
     "data": {
      "image/png": "[encoded data removed]",
      "text/plain": [
       "<Figure size 640x480 with 1 Axes>"
      ]
     },
     "metadata": {},
     "output_type": "display_data"
    }
   ],
   "source": [
    "nokia[nokia['Rating']>=4.1]['Rating'].value_counts().plot(kind='bar')"
   ]
  },
  {
   "cell_type": "code",
   "execution_count": 753,
   "id": "42667c2e",
   "metadata": {},
   "outputs": [
    {
     "data": {
      "text/plain": [
       "Memory\n",
       "4 GB      37\n",
       "3 GB      35\n",
       "4 MB      32\n",
       "2 GB      32\n",
       "6 GB      16\n",
       "16 MB     15\n",
       "8 MB       9\n",
       "64 MB      9\n",
       "1 GB       9\n",
       "128 MB     5\n",
       "512 MB     4\n",
       "32 MB      3\n",
       "256 MB     1\n",
       "768 MB     1\n",
       "Name: count, dtype: int64"
      ]
     },
     "execution_count": 753,
     "metadata": {},
     "output_type": "execute_result"
    }
   ],
   "source": [
    "nokia['Memory'].value_counts()"
   ]
  },
  {
   "cell_type": "code",
   "execution_count": 754,
   "id": "23c11148",
   "metadata": {},
   "outputs": [
    {
     "data": {
      "text/plain": [
       "Storage\n",
       "64 GB                    49\n",
       "32 GB                    38\n",
       "16 GB                    30\n",
       "4 MB                     27\n",
       "Expandable Upto 32 GB    12\n",
       "16 MB                     9\n",
       "8 GB                      8\n",
       "4 GB                      6\n",
       "128 MB                    6\n",
       "8 MB                      6\n",
       "128 GB                    4\n",
       "48 MB                     3\n",
       "Expandable Upto 16 GB     2\n",
       "256 MB                    2\n",
       "64 MB                     2\n",
       "10 MB                     1\n",
       "140 MB                    1\n",
       "Name: count, dtype: int64"
      ]
     },
     "execution_count": 754,
     "metadata": {},
     "output_type": "execute_result"
    }
   ],
   "source": [
    "nokia['Storage'].value_counts()"
   ]
  },
  {
   "cell_type": "code",
   "execution_count": 755,
   "id": "b5639223",
   "metadata": {},
   "outputs": [
    {
     "data": {
      "text/plain": [
       "Color\n",
       "Blue                 20\n",
       "Black                17\n",
       "White                 8\n",
       "Steel                 6\n",
       "Tempered Blue         5\n",
       "Matte Black           5\n",
       "Charcoal              5\n",
       "Gold                  4\n",
       "Copper                4\n",
       "Cyan Green            4\n",
       "Sand                  3\n",
       "Dusk                  3\n",
       "Silver                3\n",
       "Ice                   3\n",
       "Grey                  3\n",
       "CYAN                  2\n",
       "SAND                  2\n",
       "Yellow                2\n",
       "CHARCOAL              2\n",
       "Bright Green          2\n",
       "Polished Blue         2\n",
       "Iron                  2\n",
       "Blue/Copper           2\n",
       "Polar Night           2\n",
       "Nordic Blue           2\n",
       "Copper/Black          1\n",
       "Dusk | Purple         1\n",
       "Bright Red            1\n",
       "Glacier               1\n",
       "Copper White          1\n",
       "Polished Copper       1\n",
       "Pink Sand             1\n",
       "White & Copper        1\n",
       "Charcoal Grey         1\n",
       "Dark Grey             1\n",
       "Night | Dark Blue     1\n",
       "Fjord Blue            1\n",
       "Blue & Silver         1\n",
       "Dusk Purple           1\n",
       "Pewter / White        1\n",
       "Night                 1\n",
       "Blue&Copper           1\n",
       "Dark Blue             1\n",
       "Grey / Silver         1\n",
       "Baltic                1\n",
       "Warm Red              1\n",
       "Black&Blue            1\n",
       "Silver White          1\n",
       "Fjord                 1\n",
       "Black & Copper        1\n",
       "Name: count, dtype: int64"
      ]
     },
     "execution_count": 755,
     "metadata": {},
     "output_type": "execute_result"
    }
   ],
   "source": [
    "nokia['Color'].value_counts()"
   ]
  },
  {
   "cell_type": "code",
   "execution_count": null,
   "id": "9cbaaddc",
   "metadata": {},
   "outputs": [],
   "source": []
  },
  {
   "cell_type": "code",
   "execution_count": 756,
   "id": "a0b0251f",
   "metadata": {},
   "outputs": [],
   "source": [
    "xiaomi=df[df['Brand']=='Xiaomi']"
   ]
  },
  {
   "cell_type": "code",
   "execution_count": 757,
   "id": "694fbb71",
   "metadata": {},
   "outputs": [
    {
     "data": {
      "text/html": [
       "<div>\n",
       "<style scoped>\n",
       "    .dataframe tbody tr th:only-of-type {\n",
       "        vertical-align: middle;\n",
       "    }\n",
       "\n",
       "    .dataframe tbody tr th {\n",
       "        vertical-align: top;\n",
       "    }\n",
       "\n",
       "    .dataframe thead th {\n",
       "        text-align: right;\n",
       "    }\n",
       "</style>\n",
       "<table border=\"1\" class=\"dataframe\">\n",
       "  <thead>\n",
       "    <tr style=\"text-align: right;\">\n",
       "      <th></th>\n",
       "      <th>Rating</th>\n",
       "      <th>Selling Price</th>\n",
       "      <th>Original Price</th>\n",
       "    </tr>\n",
       "  </thead>\n",
       "  <tbody>\n",
       "    <tr>\n",
       "      <th>count</th>\n",
       "      <td>164.00000</td>\n",
       "      <td>164.000000</td>\n",
       "      <td>67.000000</td>\n",
       "    </tr>\n",
       "    <tr>\n",
       "      <th>mean</th>\n",
       "      <td>4.15061</td>\n",
       "      <td>15540.378049</td>\n",
       "      <td>19521.611940</td>\n",
       "    </tr>\n",
       "    <tr>\n",
       "      <th>std</th>\n",
       "      <td>0.83677</td>\n",
       "      <td>8146.284080</td>\n",
       "      <td>9883.688788</td>\n",
       "    </tr>\n",
       "    <tr>\n",
       "      <th>min</th>\n",
       "      <td>0.00000</td>\n",
       "      <td>6499.000000</td>\n",
       "      <td>8499.000000</td>\n",
       "    </tr>\n",
       "    <tr>\n",
       "      <th>25%</th>\n",
       "      <td>4.20000</td>\n",
       "      <td>9999.000000</td>\n",
       "      <td>12994.500000</td>\n",
       "    </tr>\n",
       "    <tr>\n",
       "      <th>50%</th>\n",
       "      <td>4.30000</td>\n",
       "      <td>12744.500000</td>\n",
       "      <td>14999.000000</td>\n",
       "    </tr>\n",
       "    <tr>\n",
       "      <th>75%</th>\n",
       "      <td>4.40000</td>\n",
       "      <td>17996.000000</td>\n",
       "      <td>24999.000000</td>\n",
       "    </tr>\n",
       "    <tr>\n",
       "      <th>max</th>\n",
       "      <td>4.50000</td>\n",
       "      <td>54999.000000</td>\n",
       "      <td>59999.000000</td>\n",
       "    </tr>\n",
       "  </tbody>\n",
       "</table>\n",
       "</div>"
      ],
      "text/plain": [
       "          Rating  Selling Price  Original Price\n",
       "count  164.00000     164.000000       67.000000\n",
       "mean     4.15061   15540.378049    19521.611940\n",
       "std      0.83677    8146.284080     9883.688788\n",
       "min      0.00000    6499.000000     8499.000000\n",
       "25%      4.20000    9999.000000    12994.500000\n",
       "50%      4.30000   12744.500000    14999.000000\n",
       "75%      4.40000   17996.000000    24999.000000\n",
       "max      4.50000   54999.000000    59999.000000"
      ]
     },
     "execution_count": 757,
     "metadata": {},
     "output_type": "execute_result"
    }
   ],
   "source": [
    "xiaomi.describe()"
   ]
  },
  {
   "cell_type": "code",
   "execution_count": 758,
   "id": "c3d94c3f",
   "metadata": {},
   "outputs": [
    {
     "data": {
      "text/plain": [
       "42"
      ]
     },
     "execution_count": 758,
     "metadata": {},
     "output_type": "execute_result"
    }
   ],
   "source": [
    "xiaomi['Model'].nunique()"
   ]
  },
  {
   "cell_type": "code",
   "execution_count": 759,
   "id": "fc6aae74",
   "metadata": {},
   "outputs": [
    {
     "data": {
      "text/plain": [
       "array(['Mi 10 ', 'Mi 10i ', 'Mi 10T ', 'Mi 11 Lite ', 'Mi 11X ',\n",
       "       'MI 11X 5G ', 'Mi 11X Pro 5G ', 'Mi A2 ', 'Mi A3 ', 'Mi Max 2 ',\n",
       "       'MI3 ', 'Redmi 5 ', 'Redmi 6 ', 'Redmi 6 Pro ', 'Redmi 6A ',\n",
       "       'Redmi 7 ', 'Redmi 7A ', 'Redmi 8 ', 'Redmi 8A ', 'Redmi 8A Dual ',\n",
       "       'Redmi 9 ', 'REDMI 9 Power ', 'REDMI 9 Prime ', 'Redmi 9A ',\n",
       "       'REDMI 9i ', 'Redmi K20 ', 'Redmi K20 Pro ', 'REDMI Note 10 Pro ',\n",
       "       'REDMI Note 10S ', 'Redmi Note 4 ', 'Redmi Note 5 ',\n",
       "       'Redmi Note 5 Pro ', 'Redmi Note 6 Pro ', 'Redmi Note 7 ',\n",
       "       'Redmi Note 7 Pro ', 'Redmi Note 7S ', 'Redmi Note 8 ',\n",
       "       'REDMI Note 9 ', 'Redmi Note 9 Pro ', 'Redmi Y1 ', 'Redmi Y2 ',\n",
       "       'Redmi Y3 '], dtype=object)"
      ]
     },
     "execution_count": 759,
     "metadata": {},
     "output_type": "execute_result"
    }
   ],
   "source": [
    "xiaomi['Model'].unique()"
   ]
  },
  {
   "cell_type": "code",
   "execution_count": 760,
   "id": "e7ddb0d3",
   "metadata": {},
   "outputs": [
    {
     "data": {
      "text/plain": [
       "Model\n",
       "Redmi Y2              10\n",
       "Redmi Note 7 Pro       9\n",
       "Redmi Note 6 Pro       8\n",
       "Mi 11X                 7\n",
       "Redmi 8A Dual          6\n",
       "Mi 11 Lite             6\n",
       "Redmi Note 9 Pro       6\n",
       "Mi A2                  6\n",
       "Redmi 9A               6\n",
       "REDMI 9 Power          5\n",
       "Redmi Note 7           5\n",
       "Redmi Y3               5\n",
       "REDMI 9 Prime          4\n",
       "Redmi Note 7S          4\n",
       "Redmi Note 5           4\n",
       "Mi 11X Pro 5G          4\n",
       "Redmi 6 Pro            4\n",
       "REDMI Note 9           4\n",
       "Redmi 5                4\n",
       "Redmi 9                4\n",
       "Mi 10i                 4\n",
       "Redmi K20              4\n",
       "Redmi Note 4           3\n",
       "Redmi K20 Pro          3\n",
       "Redmi Note 5 Pro       3\n",
       "Redmi Note 8           3\n",
       "Mi A3                  3\n",
       "Redmi 8                3\n",
       "MI 11X 5G              3\n",
       "Mi 10T                 3\n",
       "Redmi 6A               3\n",
       "REDMI Note 10 Pro      2\n",
       "Mi 10                  2\n",
       "REDMI Note 10S         2\n",
       "REDMI 9i               2\n",
       "Redmi 8A               2\n",
       "Redmi 7A               2\n",
       "Redmi 7                2\n",
       "Mi Max 2               1\n",
       "MI3                    1\n",
       "Redmi Y1               1\n",
       "Redmi 6                1\n",
       "Name: count, dtype: int64"
      ]
     },
     "execution_count": 760,
     "metadata": {},
     "output_type": "execute_result"
    }
   ],
   "source": [
    "xiaomi['Model'].value_counts()"
   ]
  },
  {
   "cell_type": "code",
   "execution_count": 761,
   "id": "a8c3a764",
   "metadata": {},
   "outputs": [
    {
     "data": {
      "text/plain": [
       "Model\n",
       "Redmi Y2              9\n",
       "Mi 11X                7\n",
       "Redmi Note 7 Pro      7\n",
       "Redmi Note 6 Pro      7\n",
       "Redmi 8A Dual         6\n",
       "Mi 11 Lite            6\n",
       "Redmi Y3              5\n",
       "Redmi Note 9 Pro      5\n",
       "Mi A2                 5\n",
       "Redmi Note 7S         4\n",
       "Redmi Note 5          4\n",
       "Redmi 9A              4\n",
       "REDMI 9 Prime         4\n",
       "Mi 10i                4\n",
       "Redmi 9               4\n",
       "REDMI 9 Power         4\n",
       "Redmi 6 Pro           4\n",
       "Redmi 5               4\n",
       "Mi 11X Pro 5G         4\n",
       "Redmi Note 4          3\n",
       "Redmi 8               3\n",
       "Mi 10T                3\n",
       "Redmi 6A              3\n",
       "Redmi K20 Pro         3\n",
       "Redmi Note 7          3\n",
       "Redmi Note 5 Pro      3\n",
       "REDMI Note 9          2\n",
       "Redmi Note 8          2\n",
       "Mi A3                 2\n",
       "Redmi 7A              2\n",
       "REDMI Note 10S        2\n",
       "REDMI Note 10 Pro     2\n",
       "Redmi K20             2\n",
       "REDMI 9i              2\n",
       "Redmi 7               2\n",
       "Redmi 8A              2\n",
       "Mi 10                 2\n",
       "MI3                   1\n",
       "Mi Max 2              1\n",
       "Redmi 6               1\n",
       "MI 11X 5G             1\n",
       "Redmi Y1              1\n",
       "Name: count, dtype: int64"
      ]
     },
     "execution_count": 761,
     "metadata": {},
     "output_type": "execute_result"
    }
   ],
   "source": [
    "xiaomi[xiaomi['Rating']>=4.2]['Model'].value_counts()"
   ]
  },
  {
   "cell_type": "code",
   "execution_count": 762,
   "id": "91818e9f",
   "metadata": {},
   "outputs": [
    {
     "data": {
      "text/plain": [
       "<Axes: xlabel='Model'>"
      ]
     },
     "execution_count": 762,
     "metadata": {},
     "output_type": "execute_result"
    },
    {
     "data": {
      "image/png": "[encoded data removed]",
      "text/plain": [
       "<Figure size 640x480 with 1 Axes>"
      ]
     },
     "metadata": {},
     "output_type": "display_data"
    }
   ],
   "source": [
    "xiaomi[xiaomi['Rating']>=4.2]['Model'].value_counts().plot(kind='bar')"
   ]
  },
  {
   "cell_type": "code",
   "execution_count": 763,
   "id": "3f03adad",
   "metadata": {},
   "outputs": [
    {
     "data": {
      "text/plain": [
       "Rating\n",
       "4.3    46\n",
       "4.4    45\n",
       "4.2    29\n",
       "4.5    25\n",
       "4.1     9\n",
       "0.0     6\n",
       "3.8     3\n",
       "2.3     1\n",
       "Name: count, dtype: int64"
      ]
     },
     "execution_count": 763,
     "metadata": {},
     "output_type": "execute_result"
    }
   ],
   "source": [
    "xiaomi[xiaomi['Rating']>=0]['Rating'].value_counts()"
   ]
  },
  {
   "cell_type": "code",
   "execution_count": 764,
   "id": "bfab99ec",
   "metadata": {},
   "outputs": [
    {
     "data": {
      "text/plain": [
       "<Axes: xlabel='Rating'>"
      ]
     },
     "execution_count": 764,
     "metadata": {},
     "output_type": "execute_result"
    },
    {
     "data": {
      "image/png": "[encoded data removed]",
      "text/plain": [
       "<Figure size 640x480 with 1 Axes>"
      ]
     },
     "metadata": {},
     "output_type": "display_data"
    }
   ],
   "source": [
    "xiaomi[xiaomi['Rating']>=0]['Rating'].value_counts().plot(kind='bar')"
   ]
  },
  {
   "cell_type": "code",
   "execution_count": 765,
   "id": "979fc504",
   "metadata": {},
   "outputs": [
    {
     "data": {
      "text/plain": [
       "Memory\n",
       "4 GB    65\n",
       "6 GB    40\n",
       "3 GB    29\n",
       "8 GB    17\n",
       "2 GB    13\n",
       "Name: count, dtype: int64"
      ]
     },
     "execution_count": 765,
     "metadata": {},
     "output_type": "execute_result"
    }
   ],
   "source": [
    "xiaomi['Memory'].value_counts()"
   ]
  },
  {
   "cell_type": "code",
   "execution_count": 766,
   "id": "c18baa5a",
   "metadata": {},
   "outputs": [
    {
     "data": {
      "text/plain": [
       "Storage\n",
       "64 GB     76\n",
       "128 GB    46\n",
       "32 GB     35\n",
       "256 GB     5\n",
       "16 GB      2\n",
       "Name: count, dtype: int64"
      ]
     },
     "execution_count": 766,
     "metadata": {},
     "output_type": "execute_result"
    }
   ],
   "source": [
    "xiaomi['Storage'].value_counts()"
   ]
  },
  {
   "cell_type": "code",
   "execution_count": 767,
   "id": "fc5d04f1",
   "metadata": {},
   "outputs": [
    {
     "data": {
      "text/plain": [
       "Color\n",
       "Black            14\n",
       "Gold             12\n",
       "Rose Gold         7\n",
       "Blue              6\n",
       "Cosmic Black      6\n",
       "                 ..\n",
       "Mint Green        1\n",
       "Space Blue        1\n",
       "Sunrise Flare     1\n",
       "SeaBlue           1\n",
       "Sporty Orange     1\n",
       "Name: count, Length: 73, dtype: int64"
      ]
     },
     "execution_count": 767,
     "metadata": {},
     "output_type": "execute_result"
    }
   ],
   "source": [
    "xiaomi['Color'].value_counts()"
   ]
  },
  {
   "cell_type": "code",
   "execution_count": null,
   "id": "87d8fa1e",
   "metadata": {},
   "outputs": [],
   "source": []
  },
  {
   "cell_type": "markdown",
   "id": "7ca122f4",
   "metadata": {},
   "source": [
    "### 6. GIONEE"
   ]
  },
  {
   "cell_type": "code",
   "execution_count": 768,
   "id": "9c13313a",
   "metadata": {},
   "outputs": [],
   "source": [
    "gionee=df[df['Brand']=='GIONEE']"
   ]
  },
  {
   "cell_type": "code",
   "execution_count": 769,
   "id": "832e6485",
   "metadata": {},
   "outputs": [
    {
     "data": {
      "text/html": [
       "<div>\n",
       "<style scoped>\n",
       "    .dataframe tbody tr th:only-of-type {\n",
       "        vertical-align: middle;\n",
       "    }\n",
       "\n",
       "    .dataframe tbody tr th {\n",
       "        vertical-align: top;\n",
       "    }\n",
       "\n",
       "    .dataframe thead th {\n",
       "        text-align: right;\n",
       "    }\n",
       "</style>\n",
       "<table border=\"1\" class=\"dataframe\">\n",
       "  <thead>\n",
       "    <tr style=\"text-align: right;\">\n",
       "      <th></th>\n",
       "      <th>Rating</th>\n",
       "      <th>Selling Price</th>\n",
       "      <th>Original Price</th>\n",
       "    </tr>\n",
       "  </thead>\n",
       "  <tbody>\n",
       "    <tr>\n",
       "      <th>count</th>\n",
       "      <td>129.000000</td>\n",
       "      <td>129.000000</td>\n",
       "      <td>22.000000</td>\n",
       "    </tr>\n",
       "    <tr>\n",
       "      <th>mean</th>\n",
       "      <td>3.791473</td>\n",
       "      <td>7135.093023</td>\n",
       "      <td>10055.000000</td>\n",
       "    </tr>\n",
       "    <tr>\n",
       "      <th>std</th>\n",
       "      <td>0.561948</td>\n",
       "      <td>3656.915086</td>\n",
       "      <td>5555.739263</td>\n",
       "    </tr>\n",
       "    <tr>\n",
       "      <th>min</th>\n",
       "      <td>0.000000</td>\n",
       "      <td>1099.000000</td>\n",
       "      <td>1999.000000</td>\n",
       "    </tr>\n",
       "    <tr>\n",
       "      <th>25%</th>\n",
       "      <td>3.800000</td>\n",
       "      <td>4290.000000</td>\n",
       "      <td>7990.000000</td>\n",
       "    </tr>\n",
       "    <tr>\n",
       "      <th>50%</th>\n",
       "      <td>3.900000</td>\n",
       "      <td>6660.000000</td>\n",
       "      <td>8274.000000</td>\n",
       "    </tr>\n",
       "    <tr>\n",
       "      <th>75%</th>\n",
       "      <td>4.000000</td>\n",
       "      <td>8690.000000</td>\n",
       "      <td>9999.000000</td>\n",
       "    </tr>\n",
       "    <tr>\n",
       "      <th>max</th>\n",
       "      <td>4.400000</td>\n",
       "      <td>21499.000000</td>\n",
       "      <td>28099.000000</td>\n",
       "    </tr>\n",
       "  </tbody>\n",
       "</table>\n",
       "</div>"
      ],
      "text/plain": [
       "           Rating  Selling Price  Original Price\n",
       "count  129.000000     129.000000       22.000000\n",
       "mean     3.791473    7135.093023    10055.000000\n",
       "std      0.561948    3656.915086     5555.739263\n",
       "min      0.000000    1099.000000     1999.000000\n",
       "25%      3.800000    4290.000000     7990.000000\n",
       "50%      3.900000    6660.000000     8274.000000\n",
       "75%      4.000000    8690.000000     9999.000000\n",
       "max      4.400000   21499.000000    28099.000000"
      ]
     },
     "execution_count": 769,
     "metadata": {},
     "output_type": "execute_result"
    }
   ],
   "source": [
    "gionee.describe()"
   ]
  },
  {
   "cell_type": "code",
   "execution_count": null,
   "id": "822fa729",
   "metadata": {},
   "outputs": [],
   "source": []
  },
  {
   "cell_type": "markdown",
   "id": "58d00dbb",
   "metadata": {},
   "source": [
    "### 7 enovo"
   ]
  },
  {
   "cell_type": "code",
   "execution_count": 770,
   "id": "fe88402d",
   "metadata": {},
   "outputs": [],
   "source": [
    "lenevo=df[df['Brand']=='Lenovo']"
   ]
  },
  {
   "cell_type": "code",
   "execution_count": 771,
   "id": "d5f4d49e",
   "metadata": {},
   "outputs": [
    {
     "data": {
      "text/html": [
       "<div>\n",
       "<style scoped>\n",
       "    .dataframe tbody tr th:only-of-type {\n",
       "        vertical-align: middle;\n",
       "    }\n",
       "\n",
       "    .dataframe tbody tr th {\n",
       "        vertical-align: top;\n",
       "    }\n",
       "\n",
       "    .dataframe thead th {\n",
       "        text-align: right;\n",
       "    }\n",
       "</style>\n",
       "<table border=\"1\" class=\"dataframe\">\n",
       "  <thead>\n",
       "    <tr style=\"text-align: right;\">\n",
       "      <th></th>\n",
       "      <th>Rating</th>\n",
       "      <th>Selling Price</th>\n",
       "      <th>Original Price</th>\n",
       "    </tr>\n",
       "  </thead>\n",
       "  <tbody>\n",
       "    <tr>\n",
       "      <th>count</th>\n",
       "      <td>121.000000</td>\n",
       "      <td>121.000000</td>\n",
       "      <td>10.000000</td>\n",
       "    </tr>\n",
       "    <tr>\n",
       "      <th>mean</th>\n",
       "      <td>3.942149</td>\n",
       "      <td>10083.842975</td>\n",
       "      <td>10435.500000</td>\n",
       "    </tr>\n",
       "    <tr>\n",
       "      <th>std</th>\n",
       "      <td>0.407380</td>\n",
       "      <td>4402.884585</td>\n",
       "      <td>2293.003477</td>\n",
       "    </tr>\n",
       "    <tr>\n",
       "      <th>min</th>\n",
       "      <td>0.000000</td>\n",
       "      <td>3549.000000</td>\n",
       "      <td>7499.000000</td>\n",
       "    </tr>\n",
       "    <tr>\n",
       "      <th>25%</th>\n",
       "      <td>3.800000</td>\n",
       "      <td>7490.000000</td>\n",
       "      <td>8865.250000</td>\n",
       "    </tr>\n",
       "    <tr>\n",
       "      <th>50%</th>\n",
       "      <td>4.000000</td>\n",
       "      <td>8499.000000</td>\n",
       "      <td>9999.000000</td>\n",
       "    </tr>\n",
       "    <tr>\n",
       "      <th>75%</th>\n",
       "      <td>4.100000</td>\n",
       "      <td>11999.000000</td>\n",
       "      <td>11124.000000</td>\n",
       "    </tr>\n",
       "    <tr>\n",
       "      <th>max</th>\n",
       "      <td>4.300000</td>\n",
       "      <td>29999.000000</td>\n",
       "      <td>14890.000000</td>\n",
       "    </tr>\n",
       "  </tbody>\n",
       "</table>\n",
       "</div>"
      ],
      "text/plain": [
       "           Rating  Selling Price  Original Price\n",
       "count  121.000000     121.000000       10.000000\n",
       "mean     3.942149   10083.842975    10435.500000\n",
       "std      0.407380    4402.884585     2293.003477\n",
       "min      0.000000    3549.000000     7499.000000\n",
       "25%      3.800000    7490.000000     8865.250000\n",
       "50%      4.000000    8499.000000     9999.000000\n",
       "75%      4.100000   11999.000000    11124.000000\n",
       "max      4.300000   29999.000000    14890.000000"
      ]
     },
     "execution_count": 771,
     "metadata": {},
     "output_type": "execute_result"
    }
   ],
   "source": [
    "lenevo.describe()"
   ]
  },
  {
   "cell_type": "code",
   "execution_count": null,
   "id": "5b4b9e5b",
   "metadata": {},
   "outputs": [],
   "source": []
  },
  {
   "cell_type": "code",
   "execution_count": null,
   "id": "334858c3",
   "metadata": {},
   "outputs": [],
   "source": []
  },
  {
   "cell_type": "markdown",
   "id": "5be9ce41",
   "metadata": {},
   "source": [
    "### 8. ASUS"
   ]
  },
  {
   "cell_type": "code",
   "execution_count": 772,
   "id": "2eb20553",
   "metadata": {},
   "outputs": [],
   "source": [
    "asus=df[df['Brand']=='ASUS']"
   ]
  },
  {
   "cell_type": "code",
   "execution_count": 773,
   "id": "234fe7b8",
   "metadata": {},
   "outputs": [
    {
     "data": {
      "text/html": [
       "<div>\n",
       "<style scoped>\n",
       "    .dataframe tbody tr th:only-of-type {\n",
       "        vertical-align: middle;\n",
       "    }\n",
       "\n",
       "    .dataframe tbody tr th {\n",
       "        vertical-align: top;\n",
       "    }\n",
       "\n",
       "    .dataframe thead th {\n",
       "        text-align: right;\n",
       "    }\n",
       "</style>\n",
       "<table border=\"1\" class=\"dataframe\">\n",
       "  <thead>\n",
       "    <tr style=\"text-align: right;\">\n",
       "      <th></th>\n",
       "      <th>Rating</th>\n",
       "      <th>Selling Price</th>\n",
       "      <th>Original Price</th>\n",
       "    </tr>\n",
       "  </thead>\n",
       "  <tbody>\n",
       "    <tr>\n",
       "      <th>count</th>\n",
       "      <td>113.000000</td>\n",
       "      <td>112.000000</td>\n",
       "      <td>10.000000</td>\n",
       "    </tr>\n",
       "    <tr>\n",
       "      <th>mean</th>\n",
       "      <td>4.010619</td>\n",
       "      <td>18728.491071</td>\n",
       "      <td>66599.000000</td>\n",
       "    </tr>\n",
       "    <tr>\n",
       "      <th>std</th>\n",
       "      <td>0.601837</td>\n",
       "      <td>16755.366656</td>\n",
       "      <td>11510.381787</td>\n",
       "    </tr>\n",
       "    <tr>\n",
       "      <th>min</th>\n",
       "      <td>0.000000</td>\n",
       "      <td>4499.000000</td>\n",
       "      <td>55999.000000</td>\n",
       "    </tr>\n",
       "    <tr>\n",
       "      <th>25%</th>\n",
       "      <td>3.800000</td>\n",
       "      <td>7149.000000</td>\n",
       "      <td>56499.000000</td>\n",
       "    </tr>\n",
       "    <tr>\n",
       "      <th>50%</th>\n",
       "      <td>4.100000</td>\n",
       "      <td>12999.000000</td>\n",
       "      <td>63999.000000</td>\n",
       "    </tr>\n",
       "    <tr>\n",
       "      <th>75%</th>\n",
       "      <td>4.300000</td>\n",
       "      <td>18499.000000</td>\n",
       "      <td>73499.000000</td>\n",
       "    </tr>\n",
       "    <tr>\n",
       "      <th>max</th>\n",
       "      <td>4.600000</td>\n",
       "      <td>79999.000000</td>\n",
       "      <td>85999.000000</td>\n",
       "    </tr>\n",
       "  </tbody>\n",
       "</table>\n",
       "</div>"
      ],
      "text/plain": [
       "           Rating  Selling Price  Original Price\n",
       "count  113.000000     112.000000       10.000000\n",
       "mean     4.010619   18728.491071    66599.000000\n",
       "std      0.601837   16755.366656    11510.381787\n",
       "min      0.000000    4499.000000    55999.000000\n",
       "25%      3.800000    7149.000000    56499.000000\n",
       "50%      4.100000   12999.000000    63999.000000\n",
       "75%      4.300000   18499.000000    73499.000000\n",
       "max      4.600000   79999.000000    85999.000000"
      ]
     },
     "execution_count": 773,
     "metadata": {},
     "output_type": "execute_result"
    }
   ],
   "source": [
    "asus.describe()"
   ]
  },
  {
   "cell_type": "code",
   "execution_count": null,
   "id": "d128a01b",
   "metadata": {},
   "outputs": [],
   "source": []
  },
  {
   "cell_type": "code",
   "execution_count": null,
   "id": "04be2309",
   "metadata": {},
   "outputs": [],
   "source": []
  },
  {
   "cell_type": "markdown",
   "id": "84cb1f48",
   "metadata": {},
   "source": [
    "### 9.Motorola"
   ]
  },
  {
   "cell_type": "code",
   "execution_count": 774,
   "id": "aec90166",
   "metadata": {},
   "outputs": [],
   "source": [
    "moto=df[df['Brand']=='Motorola']"
   ]
  },
  {
   "cell_type": "code",
   "execution_count": 775,
   "id": "00e477d6",
   "metadata": {},
   "outputs": [
    {
     "data": {
      "text/html": [
       "<div>\n",
       "<style scoped>\n",
       "    .dataframe tbody tr th:only-of-type {\n",
       "        vertical-align: middle;\n",
       "    }\n",
       "\n",
       "    .dataframe tbody tr th {\n",
       "        vertical-align: top;\n",
       "    }\n",
       "\n",
       "    .dataframe thead th {\n",
       "        text-align: right;\n",
       "    }\n",
       "</style>\n",
       "<table border=\"1\" class=\"dataframe\">\n",
       "  <thead>\n",
       "    <tr style=\"text-align: right;\">\n",
       "      <th></th>\n",
       "      <th>Rating</th>\n",
       "      <th>Selling Price</th>\n",
       "      <th>Original Price</th>\n",
       "    </tr>\n",
       "  </thead>\n",
       "  <tbody>\n",
       "    <tr>\n",
       "      <th>count</th>\n",
       "      <td>105.00000</td>\n",
       "      <td>105.000000</td>\n",
       "      <td>51.000000</td>\n",
       "    </tr>\n",
       "    <tr>\n",
       "      <th>mean</th>\n",
       "      <td>4.06381</td>\n",
       "      <td>16357.466667</td>\n",
       "      <td>27616.647059</td>\n",
       "    </tr>\n",
       "    <tr>\n",
       "      <th>std</th>\n",
       "      <td>0.61443</td>\n",
       "      <td>13519.433079</td>\n",
       "      <td>33209.575161</td>\n",
       "    </tr>\n",
       "    <tr>\n",
       "      <th>min</th>\n",
       "      <td>0.00000</td>\n",
       "      <td>5450.000000</td>\n",
       "      <td>9999.000000</td>\n",
       "    </tr>\n",
       "    <tr>\n",
       "      <th>25%</th>\n",
       "      <td>4.10000</td>\n",
       "      <td>9999.000000</td>\n",
       "      <td>13249.000000</td>\n",
       "    </tr>\n",
       "    <tr>\n",
       "      <th>50%</th>\n",
       "      <td>4.20000</td>\n",
       "      <td>12999.000000</td>\n",
       "      <td>16999.000000</td>\n",
       "    </tr>\n",
       "    <tr>\n",
       "      <th>75%</th>\n",
       "      <td>4.30000</td>\n",
       "      <td>17999.000000</td>\n",
       "      <td>23999.000000</td>\n",
       "    </tr>\n",
       "    <tr>\n",
       "      <th>max</th>\n",
       "      <td>4.40000</td>\n",
       "      <td>89999.000000</td>\n",
       "      <td>149999.000000</td>\n",
       "    </tr>\n",
       "  </tbody>\n",
       "</table>\n",
       "</div>"
      ],
      "text/plain": [
       "          Rating  Selling Price  Original Price\n",
       "count  105.00000     105.000000       51.000000\n",
       "mean     4.06381   16357.466667    27616.647059\n",
       "std      0.61443   13519.433079    33209.575161\n",
       "min      0.00000    5450.000000     9999.000000\n",
       "25%      4.10000    9999.000000    13249.000000\n",
       "50%      4.20000   12999.000000    16999.000000\n",
       "75%      4.30000   17999.000000    23999.000000\n",
       "max      4.40000   89999.000000   149999.000000"
      ]
     },
     "execution_count": 775,
     "metadata": {},
     "output_type": "execute_result"
    }
   ],
   "source": [
    "moto.describe()"
   ]
  },
  {
   "cell_type": "code",
   "execution_count": null,
   "id": "781921d5",
   "metadata": {},
   "outputs": [],
   "source": []
  },
  {
   "cell_type": "code",
   "execution_count": null,
   "id": "1dac6fa0",
   "metadata": {},
   "outputs": [],
   "source": []
  },
  {
   "cell_type": "markdown",
   "id": "dd399a88",
   "metadata": {},
   "source": [
    "### 10.LG"
   ]
  },
  {
   "cell_type": "code",
   "execution_count": 776,
   "id": "cd2d6eeb",
   "metadata": {},
   "outputs": [],
   "source": [
    "lg=df[df['Brand']=='LG']"
   ]
  },
  {
   "cell_type": "code",
   "execution_count": 777,
   "id": "18bcb511",
   "metadata": {},
   "outputs": [
    {
     "data": {
      "text/html": [
       "<div>\n",
       "<style scoped>\n",
       "    .dataframe tbody tr th:only-of-type {\n",
       "        vertical-align: middle;\n",
       "    }\n",
       "\n",
       "    .dataframe tbody tr th {\n",
       "        vertical-align: top;\n",
       "    }\n",
       "\n",
       "    .dataframe thead th {\n",
       "        text-align: right;\n",
       "    }\n",
       "</style>\n",
       "<table border=\"1\" class=\"dataframe\">\n",
       "  <thead>\n",
       "    <tr style=\"text-align: right;\">\n",
       "      <th></th>\n",
       "      <th>Rating</th>\n",
       "      <th>Selling Price</th>\n",
       "      <th>Original Price</th>\n",
       "    </tr>\n",
       "  </thead>\n",
       "  <tbody>\n",
       "    <tr>\n",
       "      <th>count</th>\n",
       "      <td>99.000000</td>\n",
       "      <td>99.000000</td>\n",
       "      <td>22.000000</td>\n",
       "    </tr>\n",
       "    <tr>\n",
       "      <th>mean</th>\n",
       "      <td>3.941414</td>\n",
       "      <td>19323.181818</td>\n",
       "      <td>29982.227273</td>\n",
       "    </tr>\n",
       "    <tr>\n",
       "      <th>std</th>\n",
       "      <td>0.494461</td>\n",
       "      <td>13538.640513</td>\n",
       "      <td>24680.155460</td>\n",
       "    </tr>\n",
       "    <tr>\n",
       "      <th>min</th>\n",
       "      <td>0.000000</td>\n",
       "      <td>5000.000000</td>\n",
       "      <td>7799.000000</td>\n",
       "    </tr>\n",
       "    <tr>\n",
       "      <th>25%</th>\n",
       "      <td>3.800000</td>\n",
       "      <td>9744.500000</td>\n",
       "      <td>14000.000000</td>\n",
       "    </tr>\n",
       "    <tr>\n",
       "      <th>50%</th>\n",
       "      <td>4.000000</td>\n",
       "      <td>13990.000000</td>\n",
       "      <td>17500.000000</td>\n",
       "    </tr>\n",
       "    <tr>\n",
       "      <th>75%</th>\n",
       "      <td>4.100000</td>\n",
       "      <td>27144.500000</td>\n",
       "      <td>53749.750000</td>\n",
       "    </tr>\n",
       "    <tr>\n",
       "      <th>max</th>\n",
       "      <td>4.500000</td>\n",
       "      <td>60000.000000</td>\n",
       "      <td>80000.000000</td>\n",
       "    </tr>\n",
       "  </tbody>\n",
       "</table>\n",
       "</div>"
      ],
      "text/plain": [
       "          Rating  Selling Price  Original Price\n",
       "count  99.000000      99.000000       22.000000\n",
       "mean    3.941414   19323.181818    29982.227273\n",
       "std     0.494461   13538.640513    24680.155460\n",
       "min     0.000000    5000.000000     7799.000000\n",
       "25%     3.800000    9744.500000    14000.000000\n",
       "50%     4.000000   13990.000000    17500.000000\n",
       "75%     4.100000   27144.500000    53749.750000\n",
       "max     4.500000   60000.000000    80000.000000"
      ]
     },
     "execution_count": 777,
     "metadata": {},
     "output_type": "execute_result"
    }
   ],
   "source": [
    "lg.describe()"
   ]
  },
  {
   "cell_type": "code",
   "execution_count": null,
   "id": "01962826",
   "metadata": {},
   "outputs": [],
   "source": []
  },
  {
   "cell_type": "code",
   "execution_count": null,
   "id": "aaa114b6",
   "metadata": {},
   "outputs": [],
   "source": []
  },
  {
   "cell_type": "markdown",
   "id": "db931080",
   "metadata": {},
   "source": [
    "### 11. vivo"
   ]
  },
  {
   "cell_type": "code",
   "execution_count": 778,
   "id": "e30237a1",
   "metadata": {},
   "outputs": [],
   "source": [
    "vivo=df[df['Brand']=='vivo']"
   ]
  },
  {
   "cell_type": "code",
   "execution_count": 779,
   "id": "d2b21ba4",
   "metadata": {},
   "outputs": [
    {
     "data": {
      "text/html": [
       "<div>\n",
       "<style scoped>\n",
       "    .dataframe tbody tr th:only-of-type {\n",
       "        vertical-align: middle;\n",
       "    }\n",
       "\n",
       "    .dataframe tbody tr th {\n",
       "        vertical-align: top;\n",
       "    }\n",
       "\n",
       "    .dataframe thead th {\n",
       "        text-align: right;\n",
       "    }\n",
       "</style>\n",
       "<table border=\"1\" class=\"dataframe\">\n",
       "  <thead>\n",
       "    <tr style=\"text-align: right;\">\n",
       "      <th></th>\n",
       "      <th>Rating</th>\n",
       "      <th>Selling Price</th>\n",
       "      <th>Original Price</th>\n",
       "    </tr>\n",
       "  </thead>\n",
       "  <tbody>\n",
       "    <tr>\n",
       "      <th>count</th>\n",
       "      <td>57.000000</td>\n",
       "      <td>56.00000</td>\n",
       "      <td>28.000000</td>\n",
       "    </tr>\n",
       "    <tr>\n",
       "      <th>mean</th>\n",
       "      <td>4.198246</td>\n",
       "      <td>23271.25000</td>\n",
       "      <td>31722.142857</td>\n",
       "    </tr>\n",
       "    <tr>\n",
       "      <th>std</th>\n",
       "      <td>0.817114</td>\n",
       "      <td>11557.58303</td>\n",
       "      <td>14629.676930</td>\n",
       "    </tr>\n",
       "    <tr>\n",
       "      <th>min</th>\n",
       "      <td>0.000000</td>\n",
       "      <td>8205.00000</td>\n",
       "      <td>13990.000000</td>\n",
       "    </tr>\n",
       "    <tr>\n",
       "      <th>25%</th>\n",
       "      <td>4.300000</td>\n",
       "      <td>14990.00000</td>\n",
       "      <td>20615.000000</td>\n",
       "    </tr>\n",
       "    <tr>\n",
       "      <th>50%</th>\n",
       "      <td>4.400000</td>\n",
       "      <td>19490.00000</td>\n",
       "      <td>30490.000000</td>\n",
       "    </tr>\n",
       "    <tr>\n",
       "      <th>75%</th>\n",
       "      <td>4.400000</td>\n",
       "      <td>29990.00000</td>\n",
       "      <td>36990.000000</td>\n",
       "    </tr>\n",
       "    <tr>\n",
       "      <th>max</th>\n",
       "      <td>4.500000</td>\n",
       "      <td>69990.00000</td>\n",
       "      <td>74990.000000</td>\n",
       "    </tr>\n",
       "  </tbody>\n",
       "</table>\n",
       "</div>"
      ],
      "text/plain": [
       "          Rating  Selling Price  Original Price\n",
       "count  57.000000       56.00000       28.000000\n",
       "mean    4.198246    23271.25000    31722.142857\n",
       "std     0.817114    11557.58303    14629.676930\n",
       "min     0.000000     8205.00000    13990.000000\n",
       "25%     4.300000    14990.00000    20615.000000\n",
       "50%     4.400000    19490.00000    30490.000000\n",
       "75%     4.400000    29990.00000    36990.000000\n",
       "max     4.500000    69990.00000    74990.000000"
      ]
     },
     "execution_count": 779,
     "metadata": {},
     "output_type": "execute_result"
    }
   ],
   "source": [
    "vivo.describe()"
   ]
  },
  {
   "cell_type": "code",
   "execution_count": null,
   "id": "ac8c11ee",
   "metadata": {},
   "outputs": [],
   "source": []
  },
  {
   "cell_type": "code",
   "execution_count": null,
   "id": "f4c1ad90",
   "metadata": {},
   "outputs": [],
   "source": []
  },
  {
   "cell_type": "markdown",
   "id": "5c3c2d1e",
   "metadata": {},
   "source": [
    "### 12.Google Pixel"
   ]
  },
  {
   "cell_type": "code",
   "execution_count": 780,
   "id": "0c2a52b3",
   "metadata": {},
   "outputs": [],
   "source": [
    "google=df[df['Brand']=='Google Pixel']"
   ]
  },
  {
   "cell_type": "code",
   "execution_count": 781,
   "id": "1da20abf",
   "metadata": {},
   "outputs": [
    {
     "data": {
      "text/html": [
       "<div>\n",
       "<style scoped>\n",
       "    .dataframe tbody tr th:only-of-type {\n",
       "        vertical-align: middle;\n",
       "    }\n",
       "\n",
       "    .dataframe tbody tr th {\n",
       "        vertical-align: top;\n",
       "    }\n",
       "\n",
       "    .dataframe thead th {\n",
       "        text-align: right;\n",
       "    }\n",
       "</style>\n",
       "<table border=\"1\" class=\"dataframe\">\n",
       "  <thead>\n",
       "    <tr style=\"text-align: right;\">\n",
       "      <th></th>\n",
       "      <th>Rating</th>\n",
       "      <th>Selling Price</th>\n",
       "      <th>Original Price</th>\n",
       "    </tr>\n",
       "  </thead>\n",
       "  <tbody>\n",
       "    <tr>\n",
       "      <th>count</th>\n",
       "      <td>29.000000</td>\n",
       "      <td>29.000000</td>\n",
       "      <td>1.0</td>\n",
       "    </tr>\n",
       "    <tr>\n",
       "      <th>mean</th>\n",
       "      <td>4.506897</td>\n",
       "      <td>61391.862069</td>\n",
       "      <td>29990.0</td>\n",
       "    </tr>\n",
       "    <tr>\n",
       "      <th>std</th>\n",
       "      <td>0.092316</td>\n",
       "      <td>23814.847699</td>\n",
       "      <td>NaN</td>\n",
       "    </tr>\n",
       "    <tr>\n",
       "      <th>min</th>\n",
       "      <td>4.300000</td>\n",
       "      <td>12000.000000</td>\n",
       "      <td>29990.0</td>\n",
       "    </tr>\n",
       "    <tr>\n",
       "      <th>25%</th>\n",
       "      <td>4.500000</td>\n",
       "      <td>39999.000000</td>\n",
       "      <td>29990.0</td>\n",
       "    </tr>\n",
       "    <tr>\n",
       "      <th>50%</th>\n",
       "      <td>4.500000</td>\n",
       "      <td>70000.000000</td>\n",
       "      <td>29990.0</td>\n",
       "    </tr>\n",
       "    <tr>\n",
       "      <th>75%</th>\n",
       "      <td>4.600000</td>\n",
       "      <td>80000.000000</td>\n",
       "      <td>29990.0</td>\n",
       "    </tr>\n",
       "    <tr>\n",
       "      <th>max</th>\n",
       "      <td>4.600000</td>\n",
       "      <td>92000.000000</td>\n",
       "      <td>29990.0</td>\n",
       "    </tr>\n",
       "  </tbody>\n",
       "</table>\n",
       "</div>"
      ],
      "text/plain": [
       "          Rating  Selling Price  Original Price\n",
       "count  29.000000      29.000000             1.0\n",
       "mean    4.506897   61391.862069         29990.0\n",
       "std     0.092316   23814.847699             NaN\n",
       "min     4.300000   12000.000000         29990.0\n",
       "25%     4.500000   39999.000000         29990.0\n",
       "50%     4.500000   70000.000000         29990.0\n",
       "75%     4.600000   80000.000000         29990.0\n",
       "max     4.600000   92000.000000         29990.0"
      ]
     },
     "execution_count": 781,
     "metadata": {},
     "output_type": "execute_result"
    }
   ],
   "source": [
    "google.describe()"
   ]
  },
  {
   "cell_type": "code",
   "execution_count": null,
   "id": "76623735",
   "metadata": {},
   "outputs": [],
   "source": []
  },
  {
   "cell_type": "code",
   "execution_count": null,
   "id": "800efac7",
   "metadata": {},
   "outputs": [],
   "source": []
  },
  {
   "cell_type": "markdown",
   "id": "3c0789ec",
   "metadata": {},
   "source": [
    "### 13.POCO"
   ]
  },
  {
   "cell_type": "code",
   "execution_count": 782,
   "id": "e3527b76",
   "metadata": {},
   "outputs": [],
   "source": [
    "poco=df[df['Brand']=='POCO']"
   ]
  },
  {
   "cell_type": "code",
   "execution_count": 783,
   "id": "c7d12aaa",
   "metadata": {},
   "outputs": [
    {
     "data": {
      "text/html": [
       "<div>\n",
       "<style scoped>\n",
       "    .dataframe tbody tr th:only-of-type {\n",
       "        vertical-align: middle;\n",
       "    }\n",
       "\n",
       "    .dataframe tbody tr th {\n",
       "        vertical-align: top;\n",
       "    }\n",
       "\n",
       "    .dataframe thead th {\n",
       "        text-align: right;\n",
       "    }\n",
       "</style>\n",
       "<table border=\"1\" class=\"dataframe\">\n",
       "  <thead>\n",
       "    <tr style=\"text-align: right;\">\n",
       "      <th></th>\n",
       "      <th>Rating</th>\n",
       "      <th>Selling Price</th>\n",
       "      <th>Original Price</th>\n",
       "    </tr>\n",
       "  </thead>\n",
       "  <tbody>\n",
       "    <tr>\n",
       "      <th>count</th>\n",
       "      <td>20.000000</td>\n",
       "      <td>20.000000</td>\n",
       "      <td>20.000000</td>\n",
       "    </tr>\n",
       "    <tr>\n",
       "      <th>mean</th>\n",
       "      <td>4.310000</td>\n",
       "      <td>12649.000000</td>\n",
       "      <td>14899.000000</td>\n",
       "    </tr>\n",
       "    <tr>\n",
       "      <th>std</th>\n",
       "      <td>0.055251</td>\n",
       "      <td>4460.646637</td>\n",
       "      <td>5627.937829</td>\n",
       "    </tr>\n",
       "    <tr>\n",
       "      <th>min</th>\n",
       "      <td>4.200000</td>\n",
       "      <td>7999.000000</td>\n",
       "      <td>9999.000000</td>\n",
       "    </tr>\n",
       "    <tr>\n",
       "      <th>25%</th>\n",
       "      <td>4.300000</td>\n",
       "      <td>8999.000000</td>\n",
       "      <td>10999.000000</td>\n",
       "    </tr>\n",
       "    <tr>\n",
       "      <th>50%</th>\n",
       "      <td>4.300000</td>\n",
       "      <td>10999.000000</td>\n",
       "      <td>11999.000000</td>\n",
       "    </tr>\n",
       "    <tr>\n",
       "      <th>75%</th>\n",
       "      <td>4.300000</td>\n",
       "      <td>16499.000000</td>\n",
       "      <td>17999.000000</td>\n",
       "    </tr>\n",
       "    <tr>\n",
       "      <th>max</th>\n",
       "      <td>4.400000</td>\n",
       "      <td>20999.000000</td>\n",
       "      <td>25999.000000</td>\n",
       "    </tr>\n",
       "  </tbody>\n",
       "</table>\n",
       "</div>"
      ],
      "text/plain": [
       "          Rating  Selling Price  Original Price\n",
       "count  20.000000      20.000000       20.000000\n",
       "mean    4.310000   12649.000000    14899.000000\n",
       "std     0.055251    4460.646637     5627.937829\n",
       "min     4.200000    7999.000000     9999.000000\n",
       "25%     4.300000    8999.000000    10999.000000\n",
       "50%     4.300000   10999.000000    11999.000000\n",
       "75%     4.300000   16499.000000    17999.000000\n",
       "max     4.400000   20999.000000    25999.000000"
      ]
     },
     "execution_count": 783,
     "metadata": {},
     "output_type": "execute_result"
    }
   ],
   "source": [
    "poco.describe()"
   ]
  },
  {
   "cell_type": "code",
   "execution_count": null,
   "id": "d1ae467d",
   "metadata": {},
   "outputs": [],
   "source": []
  },
  {
   "cell_type": "code",
   "execution_count": null,
   "id": "1ee472be",
   "metadata": {},
   "outputs": [],
   "source": []
  },
  {
   "cell_type": "markdown",
   "id": "f9d1a742",
   "metadata": {},
   "source": [
    "### 14.HTC"
   ]
  },
  {
   "cell_type": "code",
   "execution_count": 784,
   "id": "a18c0dd5",
   "metadata": {},
   "outputs": [],
   "source": [
    "htc=df[df['Brand']=='HTC']"
   ]
  },
  {
   "cell_type": "code",
   "execution_count": 785,
   "id": "94003437",
   "metadata": {},
   "outputs": [
    {
     "data": {
      "text/html": [
       "<div>\n",
       "<style scoped>\n",
       "    .dataframe tbody tr th:only-of-type {\n",
       "        vertical-align: middle;\n",
       "    }\n",
       "\n",
       "    .dataframe tbody tr th {\n",
       "        vertical-align: top;\n",
       "    }\n",
       "\n",
       "    .dataframe thead th {\n",
       "        text-align: right;\n",
       "    }\n",
       "</style>\n",
       "<table border=\"1\" class=\"dataframe\">\n",
       "  <thead>\n",
       "    <tr style=\"text-align: right;\">\n",
       "      <th></th>\n",
       "      <th>Rating</th>\n",
       "      <th>Selling Price</th>\n",
       "      <th>Original Price</th>\n",
       "    </tr>\n",
       "  </thead>\n",
       "  <tbody>\n",
       "    <tr>\n",
       "      <th>count</th>\n",
       "      <td>5.000000</td>\n",
       "      <td>5.000000</td>\n",
       "      <td>0.0</td>\n",
       "    </tr>\n",
       "    <tr>\n",
       "      <th>mean</th>\n",
       "      <td>4.060000</td>\n",
       "      <td>23797.200000</td>\n",
       "      <td>NaN</td>\n",
       "    </tr>\n",
       "    <tr>\n",
       "      <th>std</th>\n",
       "      <td>0.357771</td>\n",
       "      <td>18669.510336</td>\n",
       "      <td>NaN</td>\n",
       "    </tr>\n",
       "    <tr>\n",
       "      <th>min</th>\n",
       "      <td>3.900000</td>\n",
       "      <td>12999.000000</td>\n",
       "      <td>NaN</td>\n",
       "    </tr>\n",
       "    <tr>\n",
       "      <th>25%</th>\n",
       "      <td>3.900000</td>\n",
       "      <td>13999.000000</td>\n",
       "      <td>NaN</td>\n",
       "    </tr>\n",
       "    <tr>\n",
       "      <th>50%</th>\n",
       "      <td>3.900000</td>\n",
       "      <td>16999.000000</td>\n",
       "      <td>NaN</td>\n",
       "    </tr>\n",
       "    <tr>\n",
       "      <th>75%</th>\n",
       "      <td>3.900000</td>\n",
       "      <td>17999.000000</td>\n",
       "      <td>NaN</td>\n",
       "    </tr>\n",
       "    <tr>\n",
       "      <th>max</th>\n",
       "      <td>4.700000</td>\n",
       "      <td>56990.000000</td>\n",
       "      <td>NaN</td>\n",
       "    </tr>\n",
       "  </tbody>\n",
       "</table>\n",
       "</div>"
      ],
      "text/plain": [
       "         Rating  Selling Price  Original Price\n",
       "count  5.000000       5.000000             0.0\n",
       "mean   4.060000   23797.200000             NaN\n",
       "std    0.357771   18669.510336             NaN\n",
       "min    3.900000   12999.000000             NaN\n",
       "25%    3.900000   13999.000000             NaN\n",
       "50%    3.900000   16999.000000             NaN\n",
       "75%    3.900000   17999.000000             NaN\n",
       "max    4.700000   56990.000000             NaN"
      ]
     },
     "execution_count": 785,
     "metadata": {},
     "output_type": "execute_result"
    }
   ],
   "source": [
    "htc.describe()"
   ]
  },
  {
   "cell_type": "code",
   "execution_count": null,
   "id": "565b2d3f",
   "metadata": {},
   "outputs": [],
   "source": []
  },
  {
   "cell_type": "code",
   "execution_count": null,
   "id": "b0898e68",
   "metadata": {},
   "outputs": [],
   "source": []
  },
  {
   "cell_type": "markdown",
   "id": "b3a34b7d",
   "metadata": {},
   "source": [
    "### 15. IQOO"
   ]
  },
  {
   "cell_type": "code",
   "execution_count": 786,
   "id": "90358cc3",
   "metadata": {},
   "outputs": [],
   "source": [
    "iqoo=df[df['Brand']=='IQOO']"
   ]
  },
  {
   "cell_type": "code",
   "execution_count": 787,
   "id": "6dd72ebb",
   "metadata": {},
   "outputs": [
    {
     "data": {
      "text/html": [
       "<div>\n",
       "<style scoped>\n",
       "    .dataframe tbody tr th:only-of-type {\n",
       "        vertical-align: middle;\n",
       "    }\n",
       "\n",
       "    .dataframe tbody tr th {\n",
       "        vertical-align: top;\n",
       "    }\n",
       "\n",
       "    .dataframe thead th {\n",
       "        text-align: right;\n",
       "    }\n",
       "</style>\n",
       "<table border=\"1\" class=\"dataframe\">\n",
       "  <thead>\n",
       "    <tr style=\"text-align: right;\">\n",
       "      <th></th>\n",
       "      <th>Rating</th>\n",
       "      <th>Selling Price</th>\n",
       "      <th>Original Price</th>\n",
       "    </tr>\n",
       "  </thead>\n",
       "  <tbody>\n",
       "    <tr>\n",
       "      <th>count</th>\n",
       "      <td>5.0</td>\n",
       "      <td>5.000000</td>\n",
       "      <td>5.000000</td>\n",
       "    </tr>\n",
       "    <tr>\n",
       "      <th>mean</th>\n",
       "      <td>4.4</td>\n",
       "      <td>37190.000000</td>\n",
       "      <td>40990.000000</td>\n",
       "    </tr>\n",
       "    <tr>\n",
       "      <th>std</th>\n",
       "      <td>0.0</td>\n",
       "      <td>2167.948339</td>\n",
       "      <td>3674.234614</td>\n",
       "    </tr>\n",
       "    <tr>\n",
       "      <th>min</th>\n",
       "      <td>4.4</td>\n",
       "      <td>34990.000000</td>\n",
       "      <td>37990.000000</td>\n",
       "    </tr>\n",
       "    <tr>\n",
       "      <th>25%</th>\n",
       "      <td>4.4</td>\n",
       "      <td>34990.000000</td>\n",
       "      <td>37990.000000</td>\n",
       "    </tr>\n",
       "    <tr>\n",
       "      <th>50%</th>\n",
       "      <td>4.4</td>\n",
       "      <td>37990.000000</td>\n",
       "      <td>40990.000000</td>\n",
       "    </tr>\n",
       "    <tr>\n",
       "      <th>75%</th>\n",
       "      <td>4.4</td>\n",
       "      <td>37990.000000</td>\n",
       "      <td>40990.000000</td>\n",
       "    </tr>\n",
       "    <tr>\n",
       "      <th>max</th>\n",
       "      <td>4.4</td>\n",
       "      <td>39990.000000</td>\n",
       "      <td>46990.000000</td>\n",
       "    </tr>\n",
       "  </tbody>\n",
       "</table>\n",
       "</div>"
      ],
      "text/plain": [
       "       Rating  Selling Price  Original Price\n",
       "count     5.0       5.000000        5.000000\n",
       "mean      4.4   37190.000000    40990.000000\n",
       "std       0.0    2167.948339     3674.234614\n",
       "min       4.4   34990.000000    37990.000000\n",
       "25%       4.4   34990.000000    37990.000000\n",
       "50%       4.4   37990.000000    40990.000000\n",
       "75%       4.4   37990.000000    40990.000000\n",
       "max       4.4   39990.000000    46990.000000"
      ]
     },
     "execution_count": 787,
     "metadata": {},
     "output_type": "execute_result"
    }
   ],
   "source": [
    "iqoo.describe()"
   ]
  }
 ],
 "metadata": {
  "kernelspec": {
   "display_name": "Python 3 (ipykernel)",
   "language": "python",
   "name": "python3"
  },
  "language_info": {
   "codemirror_mode": {
    "name": "ipython",
    "version": 3
   },
   "file_extension": ".py",
   "mimetype": "text/x-python",
   "name": "python",
   "nbconvert_exporter": "python",
   "pygments_lexer": "ipython3",
   "version": "3.11.5"
  }
 },
 "nbformat": 4,
 "nbformat_minor": 5
}
